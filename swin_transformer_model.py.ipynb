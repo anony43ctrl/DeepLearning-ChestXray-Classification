{
 "cells": [
  {
   "cell_type": "code",
   "execution_count": 1,
   "metadata": {},
   "outputs": [],
   "source": [
    "\n",
    "# Standard library imports\n",
    "import os\n",
    "import random\n",
    "import gc\n",
    "import configparser\n",
    "import pickle\n",
    "import copy\n",
    "import tarfile\n",
    "from typing import List\n",
    "\n",
    "import numpy as np\n",
    "import pandas as pd\n",
    "import seaborn as sns\n",
    "import matplotlib.pyplot as plt\n",
    "from PIL import Image\n",
    "\n",
    "import torch\n",
    "import torch.nn as nn\n",
    "from torchvision import transforms\n",
    "from torch.utils.data import Dataset, DataLoader, Subset\n",
    "from transformers import SwinForImageClassification, AutoImageProcessor, AutoModel, AutoModelForImageClassification\n",
    "from transformers import AdamW\n",
    "import torch.nn.functional as F\n",
    "\n",
    "from torch.optim.lr_scheduler import OneCycleLR\n",
    "\n",
    "# from peft import LoraConfig, get_peft_model, TaskType\n",
    "from sklearn.model_selection import StratifiedKFold\n",
    "from sklearn.metrics import f1_score\n",
    "\n",
    "\n",
    "from torch.utils.tensorboard import SummaryWriter\n",
    "from torch.cuda.amp import GradScaler, autocast\n",
    "from tqdm.notebook import tqdm"
   ]
  },
  {
   "cell_type": "markdown",
   "metadata": {},
   "source": [
    "Environment Check"
   ]
  },
  {
   "cell_type": "code",
   "execution_count": 2,
   "metadata": {},
   "outputs": [],
   "source": [
    "seed = 42\n",
    "\n",
    "torch.manual_seed(seed)\n",
    "\n",
    "np.random.seed(seed)\n",
    "\n",
    "random.seed(seed)\n",
    "\n",
    "if torch.cuda.is_available():\n",
    "    torch.cuda.manual_seed(seed)\n",
    "    torch.cuda.manual_seed_all(seed)"
   ]
  },
  {
   "cell_type": "code",
   "execution_count": null,
   "metadata": {},
   "outputs": [],
   "source": [
    "import os\n",
    "import pandas as pd\n",
    "\n",
    "# Paths\n",
    "image_folder = r\"C:\\Users\\Downloads\\train_images\"  # Folder containing images\n",
    "csv_path = r\"C:\\Users\\Downloads\\train.csv\"  # CSV file path\n",
    "output_csv = r\"C:\\Users\\Downloads\\matched_train.csv\"  # Output CSV file\n",
    "\n",
    "# Load CSV file\n",
    "df = pd.read_csv(csv_path)\n",
    "\n",
    "# Ensure image_id column matches extracted filenames\n",
    "df[\"image_id\"] = df[\"image_id\"].astype(str)  # Convert to string for matching\n",
    "\n",
    "# List available image files (only filenames without extension for matching)\n",
    "available_images = {os.path.splitext(f)[0] for f in os.listdir(image_folder)}\n",
    "\n",
    "# Filter DataFrame to only include images that exist in the folder\n",
    "matched_df = df[df[\"image_id\"].isin(available_images)]\n",
    "\n",
    "# Save matched results\n",
    "matched_df.to_csv(output_csv, index=False)\n",
    "\n",
    "print(f\"Matched dataset saved to {output_csv}\")\n",
    "print(f\"Total Matched Images: {len(matched_df)}\")\n"
   ]
  },
  {
   "cell_type": "code",
   "execution_count": null,
   "metadata": {},
   "outputs": [],
   "source": [
    "import pandas as pd\n",
    "\n",
    "csv_path = r\"C:\\Users\\Downloads\\train.csv\"\n",
    "df = pd.read_csv(csv_path)\n",
    "\n",
    "print(f\"Total rows in train.csv: {len(df)}\")\n",
    "print(f\"Unique image IDs in train.csv: {df['image_id'].nunique()}\")\n",
    "import os\n",
    "\n",
    "image_folder = r\"C:\\Users\\Downloads\\train_images\"\n",
    "image_files = os.listdir(image_folder)\n",
    "\n",
    "print(f\"Total images in folder: {len(image_files)}\")\n",
    "df[\"image_id\"] = df[\"image_id\"].astype(str) + \".png\"  # Ensure .png extension\n",
    "csv_images = set(df[\"image_id\"])\n",
    "folder_images = set(os.listdir(image_folder))\n",
    "\n",
    "# Find missing images\n",
    "missing_from_folder = csv_images - folder_images\n",
    "missing_from_csv = folder_images - csv_images\n",
    "\n",
    "print(f\"Images in CSV but not in folder: {len(missing_from_folder)}\")\n",
    "print(f\"Images in folder but not in CSV: {len(missing_from_csv)}\")\n"
   ]
  },
  {
   "cell_type": "code",
   "execution_count": null,
   "metadata": {},
   "outputs": [],
   "source": [
    "import pandas as pd\n",
    "\n",
    "csv_path = r\"C:\\Users\\Downloads\\train.csv\"\n",
    "df = pd.read_csv(csv_path)\n",
    "\n",
    "# Count duplicate image IDs\n",
    "duplicate_counts = df[\"image_id\"].value_counts()\n",
    "duplicates = duplicate_counts[duplicate_counts > 1]\n",
    "\n",
    "print(f\"Total duplicate entries: {duplicates.sum()}\")\n",
    "print(f\"Number of unique images with duplicates: {len(duplicates)}\")\n",
    "df = df.drop_duplicates(subset=\"image_id\")  # Keep only one entry per image\n",
    "clean_csv_path = r\"C:\\Users\\Downloads\\cleaned_train.csv\"\n",
    "df.to_csv(clean_csv_path, index=False)\n",
    "print(f\"Cleaned CSV saved to {clean_csv_path}\")\n"
   ]
  },
  {
   "cell_type": "code",
   "execution_count": null,
   "metadata": {},
   "outputs": [
    {
     "name": "stdout",
     "output_type": "stream",
     "text": [
      "CSV Columns: ['image_id', 'class_name', 'class_id', 'rad_id', 'x_min', 'y_min', 'x_max', 'y_max']\n",
      "First few rows:\n",
      "                            image_id          class_name  class_id rad_id  \\\n",
      "0  50a418190bc3fb1ef1633bf9678929b3          No finding        14    R11   \n",
      "1  21a10246a5ec7af151081d0cd6d65dc9          No finding        14     R7   \n",
      "2  9a5094b2563a1ef3ff50dc5c7ff71345        Cardiomegaly         3    R10   \n",
      "3  051132a778e61a86eb147c7c6f564dfe  Aortic enlargement         0    R10   \n",
      "4  063319de25ce7edb9b1c6b8881290140          No finding        14    R10   \n",
      "\n",
      "    x_min   y_min   x_max   y_max  \n",
      "0     NaN     NaN     NaN     NaN  \n",
      "1     NaN     NaN     NaN     NaN  \n",
      "2   691.0  1375.0  1653.0  1831.0  \n",
      "3  1264.0   743.0  1611.0  1019.0  \n",
      "4     NaN     NaN     NaN     NaN  \n"
     ]
    }
   ],
   "source": [
    "import pandas as pd\n",
    "\n",
    "csv_path = r\"C:\\Users\\Downloads\\cleaned_train.csv\"\n",
    "df = pd.read_csv(csv_path)\n",
    "\n",
    "print(\"CSV Columns:\", df.columns.tolist())  # Print all column names\n",
    "print(\"First few rows:\\n\", df.head())  # Show first few rows\n"
   ]
  },
  {
   "cell_type": "code",
   "execution_count": null,
   "metadata": {},
   "outputs": [],
   "source": [
    "import os\n",
    "import pandas as pd\n",
    "from sklearn.model_selection import train_test_split\n",
    "\n",
    "# Paths\n",
    "IMAGE_FOLDER = r\"C:\\Users\\Downloads\\train_images\"  # Image folder\n",
    "LABEL_CSV = r\"C:\\Users\\Downloads\\cleaned_train.csv\"  # Cleaned CSV\n",
    "\n",
    "# Load CSV\n",
    "df = pd.read_csv(LABEL_CSV)\n",
    "\n",
    "# Use 'class_id' as the label for stratification\n",
    "label_column = \"class_id\"\n",
    "if label_column not in df.columns:\n",
    "    raise ValueError(f\"❌ Column '{label_column}' not found in CSV! Available columns: {df.columns.tolist()}\")\n",
    "\n",
    "print(f\"✅ Using '{label_column}' as label column\")\n",
    "\n",
    "# Drop any NaN labels\n",
    "df = df.dropna(subset=[label_column])\n",
    "\n",
    "# Split into Train (80%), Test (10%), Validation (10%)\n",
    "train_df, temp_df = train_test_split(df, test_size=0.2, random_state=42, stratify=df[label_column])\n",
    "test_df, val_df = train_test_split(temp_df, test_size=0.5, random_state=42, stratify=temp_df[label_column])\n",
    "\n",
    "# Save split datasets\n",
    "train_csv_path = r\"C:\\Users\\Downloads\\train_labels.csv\"\n",
    "test_csv_path = r\"C:\\Users\\Downloads\\test_labels.csv\"\n",
    "val_csv_path = r\"C:\\Users\\Downloads\\val_labels.csv\"\n",
    "\n",
    "train_df.to_csv(train_csv_path, index=False)\n",
    "test_df.to_csv(test_csv_path, index=False)\n",
    "val_df.to_csv(val_csv_path, index=False)\n",
    "\n",
    "print(f\"✅ Train labels saved to {train_csv_path} ({len(train_df)} samples)\")\n",
    "print(f\"✅ Test labels saved to {test_csv_path} ({len(test_df)} samples)\")\n",
    "print(f\"✅ Validation labels saved to {val_csv_path} ({len(val_df)} samples)\")\n"
   ]
  },
  {
   "cell_type": "code",
   "execution_count": 8,
   "metadata": {},
   "outputs": [
    {
     "name": "stdout",
     "output_type": "stream",
     "text": [
      "🔍 Train-Val Leakage: False\n",
      "🔍 Train-Test Leakage: False\n",
      "🔍 Val-Test Leakage: False\n",
      "✅ Data Cleaning Completed!\n"
     ]
    }
   ],
   "source": [
    "# Load the newly split datasets\n",
    "train_labels_df = pd.read_csv(train_csv_path)\n",
    "test_labels_df = pd.read_csv(test_csv_path)\n",
    "val_labels_df = pd.read_csv(val_csv_path)\n",
    "\n",
    "# Function to check for data leakage\n",
    "def check_for_leakage(df1, df2, column=\"image_id\"):\n",
    "    \"\"\"\n",
    "    Check if there is any data leakage between two datasets based on a unique identifier.\n",
    "    \"\"\"\n",
    "    df1_unique = set(df1[column].values)\n",
    "    df2_unique = set(df2[column].values)\n",
    "    return len(df1_unique.intersection(df2_unique)) > 0\n",
    "\n",
    "# Check for data leakage between splits\n",
    "leakage_train_val = check_for_leakage(train_labels_df, val_labels_df, \"image_id\")\n",
    "leakage_train_test = check_for_leakage(train_labels_df, test_labels_df, \"image_id\")\n",
    "leakage_val_test = check_for_leakage(val_labels_df, test_labels_df, \"image_id\")\n",
    "\n",
    "print(f\"🔍 Train-Val Leakage: {leakage_train_val}\")\n",
    "print(f\"🔍 Train-Test Leakage: {leakage_train_test}\")\n",
    "print(f\"🔍 Val-Test Leakage: {leakage_val_test}\")\n",
    "\n",
    "# Ensure bounding box values are numeric (convert and fill NaNs)\n",
    "bbox_cols = [\"x_min\", \"y_min\", \"x_max\", \"y_max\"]\n",
    "for df in [train_labels_df, test_labels_df, val_labels_df]:\n",
    "    df[bbox_cols] = df[bbox_cols].apply(pd.to_numeric, errors='coerce')\n",
    "    df[bbox_cols] = df[bbox_cols].fillna(0)  # Replace NaNs with 0\n",
    "\n",
    "print(\"✅ Data Cleaning Completed!\")\n"
   ]
  },
  {
   "cell_type": "code",
   "execution_count": 9,
   "metadata": {},
   "outputs": [
    {
     "name": "stdout",
     "output_type": "stream",
     "text": [
      "🔍 Train-Val Leakage: False\n",
      "🔍 Train-Test Leakage: False\n",
      "🔍 Val-Test Leakage: False\n"
     ]
    }
   ],
   "source": [
    "# Function to check for data leakage\n",
    "def check_for_leakage(df1, df2, column=\"image_id\"):\n",
    "    \"\"\"\n",
    "    Checks if there is any data leakage between two datasets based on a unique identifier (e.g., image_id).\n",
    "    Returns True if there is leakage, otherwise False.\n",
    "    \"\"\"\n",
    "    df1_unique = set(df1[column].values)\n",
    "    df2_unique = set(df2[column].values)\n",
    "    \n",
    "    leaked_samples = df1_unique.intersection(df2_unique)\n",
    "    \n",
    "    if leaked_samples:\n",
    "        print(f\"⚠️ WARNING: {len(leaked_samples)} leaked samples found!\")\n",
    "    \n",
    "    return len(leaked_samples) > 0\n",
    "\n",
    "# Check for data leakage between Train, Validation, and Test sets\n",
    "leakage_train_val = check_for_leakage(train_labels_df, val_labels_df, \"image_id\")\n",
    "leakage_train_test = check_for_leakage(train_labels_df, test_labels_df, \"image_id\")\n",
    "leakage_val_test = check_for_leakage(val_labels_df, test_labels_df, \"image_id\")\n",
    "\n",
    "# Print results\n",
    "print(f\"🔍 Train-Val Leakage: {leakage_train_val}\")\n",
    "print(f\"🔍 Train-Test Leakage: {leakage_train_test}\")\n",
    "print(f\"🔍 Val-Test Leakage: {leakage_val_test}\")\n"
   ]
  },
  {
   "cell_type": "markdown",
   "metadata": {},
   "source": [
    "### Data Preparation"
   ]
  },
  {
   "cell_type": "markdown",
   "metadata": {},
   "source": [
    "**Data Leakage**"
   ]
  },
  {
   "cell_type": "code",
   "execution_count": 10,
   "metadata": {},
   "outputs": [],
   "source": [
    "import os\n",
    "import torch\n",
    "from torch.utils.data import Dataset, DataLoader\n",
    "from PIL import Image\n",
    "from transformers import AutoImageProcessor\n",
    "\n",
    "class MedDataset(Dataset):\n",
    "    def __init__(self, data_dir, labels_df, image_processor, transforms=None):\n",
    "        \"\"\"\n",
    "        Custom Dataset class for medical images.\n",
    "\n",
    "        Args:\n",
    "            data_dir (str): Path to the directory containing images.\n",
    "            labels_df (pd.DataFrame): DataFrame containing image file names and corresponding labels.\n",
    "            image_processor (AutoImageProcessor): Transformer image processor for preprocessing.\n",
    "            transforms (callable, optional): Optional transformations to apply on images.\n",
    "        \"\"\"\n",
    "        self.data_dir = data_dir\n",
    "        self.labels_df = labels_df\n",
    "        self.image_processor = image_processor\n",
    "        self.transforms = transforms\n",
    "    \n",
    "    def __len__(self):\n",
    "        return len(self.labels_df)\n",
    "    \n",
    "    def __getitem__(self, index):\n",
    "        # Get the image name and corresponding labels\n",
    "        image_name = self.labels_df.iloc[index][\"image_id\"]  # Adjusted to match your column name\n",
    "        labels = self.labels_df.iloc[index, 1:].values.astype(float)  # Exclude 'image_id' column\n",
    "        \n",
    "        # Construct the image path\n",
    "        image_path = os.path.join(self.data_dir, image_name)\n",
    "        \n",
    "        # Open the image and convert to RGB\n",
    "        image = Image.open(image_path).convert(\"RGB\")\n",
    "        \n",
    "        # Apply preprocessing using the transformer image processor\n",
    "        processed_image = self.image_processor(image, return_tensors=\"pt\")\n",
    "        image_tensor = processed_image[\"pixel_values\"].squeeze(0)\n",
    "\n",
    "        # Apply additional transformations if specified\n",
    "        if self.transforms:\n",
    "            image_tensor = self.transforms(image_tensor)\n",
    "        \n",
    "        labels_tensor = torch.tensor(labels, dtype=torch.float32)\n",
    "\n",
    "        return image_tensor, labels_tensor\n"
   ]
  },
  {
   "cell_type": "code",
   "execution_count": 11,
   "metadata": {},
   "outputs": [],
   "source": [
    "checkpoint_name = \"microsoft/swin-tiny-patch4-window7-224\""
   ]
  },
  {
   "cell_type": "code",
   "execution_count": 12,
   "metadata": {},
   "outputs": [],
   "source": [
    "swin_image_processor = AutoImageProcessor.from_pretrained(checkpoint_name)\n",
    "swin_model = AutoModelForImageClassification.from_pretrained(checkpoint_name)"
   ]
  },
  {
   "cell_type": "code",
   "execution_count": 13,
   "metadata": {},
   "outputs": [],
   "source": [
    "from transformers import AutoImageProcessor, AutoModelForImageClassification"
   ]
  },
  {
   "cell_type": "code",
   "execution_count": 14,
   "metadata": {},
   "outputs": [],
   "source": [
    "import ssl\n",
    "ssl._create_default_https_context = ssl._create_unverified_context\n"
   ]
  },
  {
   "cell_type": "code",
   "execution_count": null,
   "metadata": {},
   "outputs": [
    {
     "name": "stdout",
     "output_type": "stream",
     "text": [
      "✅ DataLoaders initialized successfully!\n"
     ]
    }
   ],
   "source": [
    "\n",
    "\n",
    "# Define dataset directories (update these with actual paths)\n",
    "TRAIN_DATASET = r\"C:\\Users\\Downloads\\train_images\"\n",
    "VAL_DATASET = r\"C:\\Users\\Downloads\\train_images\"  # Assuming the same folder for validation\n",
    "TEST_DATASET = r\"C:\\Users\\Downloads\\train_images\"  # Assuming the same folder for test\n",
    "\n",
    "# Load labels from your saved CSV files\n",
    "train_labels_raw_df = pd.read_csv(r\"C:\\Users\\Downloads\\train_labels.csv\")\n",
    "val_labels_raw_df = pd.read_csv(r\"C:\\Users\\Downloads\\val_labels.csv\")\n",
    "test_labels_raw_df = pd.read_csv(r\"C:\\Users\\\\Downloads\\test_labels.csv\")\n",
    "\n",
    "# Initialize datasets\n",
    "train_dataset = MedDataset(\n",
    "    data_dir=TRAIN_DATASET,\n",
    "    labels_df=train_labels_raw_df,\n",
    "    image_processor=swin_image_processor\n",
    ")\n",
    "\n",
    "val_dataset = MedDataset(\n",
    "    data_dir=VAL_DATASET,\n",
    "    labels_df=val_labels_raw_df,\n",
    "    image_processor=swin_image_processor\n",
    ")\n",
    "\n",
    "test_dataset = MedDataset(\n",
    "    data_dir=TEST_DATASET,\n",
    "    labels_df=test_labels_raw_df,\n",
    "    image_processor=swin_image_processor\n",
    ")\n",
    "\n",
    "# Define data loader parameters\n",
    "batch_size = 128\n",
    "num_workers = 4\n",
    "\n",
    "# Create DataLoaders\n",
    "train_loader = DataLoader(train_dataset, batch_size=batch_size, shuffle=True, num_workers=num_workers)\n",
    "val_loader = DataLoader(val_dataset, batch_size=batch_size, shuffle=False, num_workers=num_workers)\n",
    "test_loader = DataLoader(test_dataset, batch_size=batch_size, shuffle=False, num_workers=num_workers)\n",
    "\n",
    "print(\"✅ DataLoaders initialized successfully!\")\n"
   ]
  },
  {
   "cell_type": "markdown",
   "metadata": {},
   "source": [
    "## Model"
   ]
  },
  {
   "cell_type": "code",
   "execution_count": 16,
   "metadata": {},
   "outputs": [
    {
     "data": {
      "text/plain": [
       "ViTImageProcessor {\n",
       "  \"do_normalize\": true,\n",
       "  \"do_rescale\": true,\n",
       "  \"do_resize\": true,\n",
       "  \"image_mean\": [\n",
       "    0.485,\n",
       "    0.456,\n",
       "    0.406\n",
       "  ],\n",
       "  \"image_processor_type\": \"ViTImageProcessor\",\n",
       "  \"image_std\": [\n",
       "    0.229,\n",
       "    0.224,\n",
       "    0.225\n",
       "  ],\n",
       "  \"resample\": 3,\n",
       "  \"rescale_factor\": 0.00392156862745098,\n",
       "  \"size\": {\n",
       "    \"height\": 224,\n",
       "    \"width\": 224\n",
       "  }\n",
       "}"
      ]
     },
     "execution_count": 16,
     "metadata": {},
     "output_type": "execute_result"
    }
   ],
   "source": [
    "swin_image_processor"
   ]
  },
  {
   "cell_type": "code",
   "execution_count": 17,
   "metadata": {},
   "outputs": [],
   "source": [
    "custom_processor = transforms.Compose([\n",
    "    transforms.Resize((224, 224)),\n",
    "    transforms.ToTensor(),\n",
    "    transforms.Normalize(\n",
    "        mean=[0.485, 0.456, 0.406],\n",
    "        std=[0.229, 0.224, 0.225]\n",
    "    )\n",
    "])"
   ]
  },
  {
   "cell_type": "code",
   "execution_count": 18,
   "metadata": {},
   "outputs": [],
   "source": [
    "model_config = swin_model.config"
   ]
  },
  {
   "cell_type": "code",
   "execution_count": 19,
   "metadata": {},
   "outputs": [
    {
     "data": {
      "text/plain": [
       "768"
      ]
     },
     "execution_count": 19,
     "metadata": {},
     "output_type": "execute_result"
    }
   ],
   "source": [
    "model_config.hidden_size"
   ]
  },
  {
   "cell_type": "code",
   "execution_count": 20,
   "metadata": {},
   "outputs": [
    {
     "data": {
      "text/plain": [
       "'gelu'"
      ]
     },
     "execution_count": 20,
     "metadata": {},
     "output_type": "execute_result"
    }
   ],
   "source": [
    "model_config.hidden_act"
   ]
  },
  {
   "cell_type": "code",
   "execution_count": 21,
   "metadata": {},
   "outputs": [
    {
     "data": {
      "text/plain": [
       "Linear(in_features=768, out_features=1000, bias=True)"
      ]
     },
     "execution_count": 21,
     "metadata": {},
     "output_type": "execute_result"
    }
   ],
   "source": [
    "swin_model.classifier"
   ]
  },
  {
   "cell_type": "code",
   "execution_count": 22,
   "metadata": {},
   "outputs": [
    {
     "data": {
      "text/plain": [
       "SwinForImageClassification(\n",
       "  (swin): SwinModel(\n",
       "    (embeddings): SwinEmbeddings(\n",
       "      (patch_embeddings): SwinPatchEmbeddings(\n",
       "        (projection): Conv2d(3, 96, kernel_size=(4, 4), stride=(4, 4))\n",
       "      )\n",
       "      (norm): LayerNorm((96,), eps=1e-05, elementwise_affine=True)\n",
       "      (dropout): Dropout(p=0.0, inplace=False)\n",
       "    )\n",
       "    (encoder): SwinEncoder(\n",
       "      (layers): ModuleList(\n",
       "        (0): SwinStage(\n",
       "          (blocks): ModuleList(\n",
       "            (0-1): 2 x SwinLayer(\n",
       "              (layernorm_before): LayerNorm((96,), eps=1e-05, elementwise_affine=True)\n",
       "              (attention): SwinAttention(\n",
       "                (self): SwinSelfAttention(\n",
       "                  (query): Linear(in_features=96, out_features=96, bias=True)\n",
       "                  (key): Linear(in_features=96, out_features=96, bias=True)\n",
       "                  (value): Linear(in_features=96, out_features=96, bias=True)\n",
       "                  (dropout): Dropout(p=0.0, inplace=False)\n",
       "                )\n",
       "                (output): SwinSelfOutput(\n",
       "                  (dense): Linear(in_features=96, out_features=96, bias=True)\n",
       "                  (dropout): Dropout(p=0.0, inplace=False)\n",
       "                )\n",
       "              )\n",
       "              (drop_path): SwinDropPath(p=0.1)\n",
       "              (layernorm_after): LayerNorm((96,), eps=1e-05, elementwise_affine=True)\n",
       "              (intermediate): SwinIntermediate(\n",
       "                (dense): Linear(in_features=96, out_features=384, bias=True)\n",
       "                (intermediate_act_fn): GELUActivation()\n",
       "              )\n",
       "              (output): SwinOutput(\n",
       "                (dense): Linear(in_features=384, out_features=96, bias=True)\n",
       "                (dropout): Dropout(p=0.0, inplace=False)\n",
       "              )\n",
       "            )\n",
       "          )\n",
       "          (downsample): SwinPatchMerging(\n",
       "            (reduction): Linear(in_features=384, out_features=192, bias=False)\n",
       "            (norm): LayerNorm((384,), eps=1e-05, elementwise_affine=True)\n",
       "          )\n",
       "        )\n",
       "        (1): SwinStage(\n",
       "          (blocks): ModuleList(\n",
       "            (0-1): 2 x SwinLayer(\n",
       "              (layernorm_before): LayerNorm((192,), eps=1e-05, elementwise_affine=True)\n",
       "              (attention): SwinAttention(\n",
       "                (self): SwinSelfAttention(\n",
       "                  (query): Linear(in_features=192, out_features=192, bias=True)\n",
       "                  (key): Linear(in_features=192, out_features=192, bias=True)\n",
       "                  (value): Linear(in_features=192, out_features=192, bias=True)\n",
       "                  (dropout): Dropout(p=0.0, inplace=False)\n",
       "                )\n",
       "                (output): SwinSelfOutput(\n",
       "                  (dense): Linear(in_features=192, out_features=192, bias=True)\n",
       "                  (dropout): Dropout(p=0.0, inplace=False)\n",
       "                )\n",
       "              )\n",
       "              (drop_path): SwinDropPath(p=0.1)\n",
       "              (layernorm_after): LayerNorm((192,), eps=1e-05, elementwise_affine=True)\n",
       "              (intermediate): SwinIntermediate(\n",
       "                (dense): Linear(in_features=192, out_features=768, bias=True)\n",
       "                (intermediate_act_fn): GELUActivation()\n",
       "              )\n",
       "              (output): SwinOutput(\n",
       "                (dense): Linear(in_features=768, out_features=192, bias=True)\n",
       "                (dropout): Dropout(p=0.0, inplace=False)\n",
       "              )\n",
       "            )\n",
       "          )\n",
       "          (downsample): SwinPatchMerging(\n",
       "            (reduction): Linear(in_features=768, out_features=384, bias=False)\n",
       "            (norm): LayerNorm((768,), eps=1e-05, elementwise_affine=True)\n",
       "          )\n",
       "        )\n",
       "        (2): SwinStage(\n",
       "          (blocks): ModuleList(\n",
       "            (0-5): 6 x SwinLayer(\n",
       "              (layernorm_before): LayerNorm((384,), eps=1e-05, elementwise_affine=True)\n",
       "              (attention): SwinAttention(\n",
       "                (self): SwinSelfAttention(\n",
       "                  (query): Linear(in_features=384, out_features=384, bias=True)\n",
       "                  (key): Linear(in_features=384, out_features=384, bias=True)\n",
       "                  (value): Linear(in_features=384, out_features=384, bias=True)\n",
       "                  (dropout): Dropout(p=0.0, inplace=False)\n",
       "                )\n",
       "                (output): SwinSelfOutput(\n",
       "                  (dense): Linear(in_features=384, out_features=384, bias=True)\n",
       "                  (dropout): Dropout(p=0.0, inplace=False)\n",
       "                )\n",
       "              )\n",
       "              (drop_path): SwinDropPath(p=0.1)\n",
       "              (layernorm_after): LayerNorm((384,), eps=1e-05, elementwise_affine=True)\n",
       "              (intermediate): SwinIntermediate(\n",
       "                (dense): Linear(in_features=384, out_features=1536, bias=True)\n",
       "                (intermediate_act_fn): GELUActivation()\n",
       "              )\n",
       "              (output): SwinOutput(\n",
       "                (dense): Linear(in_features=1536, out_features=384, bias=True)\n",
       "                (dropout): Dropout(p=0.0, inplace=False)\n",
       "              )\n",
       "            )\n",
       "          )\n",
       "          (downsample): SwinPatchMerging(\n",
       "            (reduction): Linear(in_features=1536, out_features=768, bias=False)\n",
       "            (norm): LayerNorm((1536,), eps=1e-05, elementwise_affine=True)\n",
       "          )\n",
       "        )\n",
       "        (3): SwinStage(\n",
       "          (blocks): ModuleList(\n",
       "            (0-1): 2 x SwinLayer(\n",
       "              (layernorm_before): LayerNorm((768,), eps=1e-05, elementwise_affine=True)\n",
       "              (attention): SwinAttention(\n",
       "                (self): SwinSelfAttention(\n",
       "                  (query): Linear(in_features=768, out_features=768, bias=True)\n",
       "                  (key): Linear(in_features=768, out_features=768, bias=True)\n",
       "                  (value): Linear(in_features=768, out_features=768, bias=True)\n",
       "                  (dropout): Dropout(p=0.0, inplace=False)\n",
       "                )\n",
       "                (output): SwinSelfOutput(\n",
       "                  (dense): Linear(in_features=768, out_features=768, bias=True)\n",
       "                  (dropout): Dropout(p=0.0, inplace=False)\n",
       "                )\n",
       "              )\n",
       "              (drop_path): SwinDropPath(p=0.1)\n",
       "              (layernorm_after): LayerNorm((768,), eps=1e-05, elementwise_affine=True)\n",
       "              (intermediate): SwinIntermediate(\n",
       "                (dense): Linear(in_features=768, out_features=3072, bias=True)\n",
       "                (intermediate_act_fn): GELUActivation()\n",
       "              )\n",
       "              (output): SwinOutput(\n",
       "                (dense): Linear(in_features=3072, out_features=768, bias=True)\n",
       "                (dropout): Dropout(p=0.0, inplace=False)\n",
       "              )\n",
       "            )\n",
       "          )\n",
       "        )\n",
       "      )\n",
       "    )\n",
       "    (layernorm): LayerNorm((768,), eps=1e-05, elementwise_affine=True)\n",
       "    (pooler): AdaptiveAvgPool1d(output_size=1)\n",
       "  )\n",
       "  (classifier): Linear(in_features=768, out_features=1000, bias=True)\n",
       ")"
      ]
     },
     "execution_count": 22,
     "metadata": {},
     "output_type": "execute_result"
    }
   ],
   "source": [
    "swin_model"
   ]
  },
  {
   "cell_type": "code",
   "execution_count": 23,
   "metadata": {},
   "outputs": [
    {
     "data": {
      "text/plain": [
       "ModuleList(\n",
       "  (0): SwinStage(\n",
       "    (blocks): ModuleList(\n",
       "      (0-1): 2 x SwinLayer(\n",
       "        (layernorm_before): LayerNorm((96,), eps=1e-05, elementwise_affine=True)\n",
       "        (attention): SwinAttention(\n",
       "          (self): SwinSelfAttention(\n",
       "            (query): Linear(in_features=96, out_features=96, bias=True)\n",
       "            (key): Linear(in_features=96, out_features=96, bias=True)\n",
       "            (value): Linear(in_features=96, out_features=96, bias=True)\n",
       "            (dropout): Dropout(p=0.0, inplace=False)\n",
       "          )\n",
       "          (output): SwinSelfOutput(\n",
       "            (dense): Linear(in_features=96, out_features=96, bias=True)\n",
       "            (dropout): Dropout(p=0.0, inplace=False)\n",
       "          )\n",
       "        )\n",
       "        (drop_path): SwinDropPath(p=0.1)\n",
       "        (layernorm_after): LayerNorm((96,), eps=1e-05, elementwise_affine=True)\n",
       "        (intermediate): SwinIntermediate(\n",
       "          (dense): Linear(in_features=96, out_features=384, bias=True)\n",
       "          (intermediate_act_fn): GELUActivation()\n",
       "        )\n",
       "        (output): SwinOutput(\n",
       "          (dense): Linear(in_features=384, out_features=96, bias=True)\n",
       "          (dropout): Dropout(p=0.0, inplace=False)\n",
       "        )\n",
       "      )\n",
       "    )\n",
       "    (downsample): SwinPatchMerging(\n",
       "      (reduction): Linear(in_features=384, out_features=192, bias=False)\n",
       "      (norm): LayerNorm((384,), eps=1e-05, elementwise_affine=True)\n",
       "    )\n",
       "  )\n",
       "  (1): SwinStage(\n",
       "    (blocks): ModuleList(\n",
       "      (0-1): 2 x SwinLayer(\n",
       "        (layernorm_before): LayerNorm((192,), eps=1e-05, elementwise_affine=True)\n",
       "        (attention): SwinAttention(\n",
       "          (self): SwinSelfAttention(\n",
       "            (query): Linear(in_features=192, out_features=192, bias=True)\n",
       "            (key): Linear(in_features=192, out_features=192, bias=True)\n",
       "            (value): Linear(in_features=192, out_features=192, bias=True)\n",
       "            (dropout): Dropout(p=0.0, inplace=False)\n",
       "          )\n",
       "          (output): SwinSelfOutput(\n",
       "            (dense): Linear(in_features=192, out_features=192, bias=True)\n",
       "            (dropout): Dropout(p=0.0, inplace=False)\n",
       "          )\n",
       "        )\n",
       "        (drop_path): SwinDropPath(p=0.1)\n",
       "        (layernorm_after): LayerNorm((192,), eps=1e-05, elementwise_affine=True)\n",
       "        (intermediate): SwinIntermediate(\n",
       "          (dense): Linear(in_features=192, out_features=768, bias=True)\n",
       "          (intermediate_act_fn): GELUActivation()\n",
       "        )\n",
       "        (output): SwinOutput(\n",
       "          (dense): Linear(in_features=768, out_features=192, bias=True)\n",
       "          (dropout): Dropout(p=0.0, inplace=False)\n",
       "        )\n",
       "      )\n",
       "    )\n",
       "    (downsample): SwinPatchMerging(\n",
       "      (reduction): Linear(in_features=768, out_features=384, bias=False)\n",
       "      (norm): LayerNorm((768,), eps=1e-05, elementwise_affine=True)\n",
       "    )\n",
       "  )\n",
       "  (2): SwinStage(\n",
       "    (blocks): ModuleList(\n",
       "      (0-5): 6 x SwinLayer(\n",
       "        (layernorm_before): LayerNorm((384,), eps=1e-05, elementwise_affine=True)\n",
       "        (attention): SwinAttention(\n",
       "          (self): SwinSelfAttention(\n",
       "            (query): Linear(in_features=384, out_features=384, bias=True)\n",
       "            (key): Linear(in_features=384, out_features=384, bias=True)\n",
       "            (value): Linear(in_features=384, out_features=384, bias=True)\n",
       "            (dropout): Dropout(p=0.0, inplace=False)\n",
       "          )\n",
       "          (output): SwinSelfOutput(\n",
       "            (dense): Linear(in_features=384, out_features=384, bias=True)\n",
       "            (dropout): Dropout(p=0.0, inplace=False)\n",
       "          )\n",
       "        )\n",
       "        (drop_path): SwinDropPath(p=0.1)\n",
       "        (layernorm_after): LayerNorm((384,), eps=1e-05, elementwise_affine=True)\n",
       "        (intermediate): SwinIntermediate(\n",
       "          (dense): Linear(in_features=384, out_features=1536, bias=True)\n",
       "          (intermediate_act_fn): GELUActivation()\n",
       "        )\n",
       "        (output): SwinOutput(\n",
       "          (dense): Linear(in_features=1536, out_features=384, bias=True)\n",
       "          (dropout): Dropout(p=0.0, inplace=False)\n",
       "        )\n",
       "      )\n",
       "    )\n",
       "    (downsample): SwinPatchMerging(\n",
       "      (reduction): Linear(in_features=1536, out_features=768, bias=False)\n",
       "      (norm): LayerNorm((1536,), eps=1e-05, elementwise_affine=True)\n",
       "    )\n",
       "  )\n",
       "  (3): SwinStage(\n",
       "    (blocks): ModuleList(\n",
       "      (0-1): 2 x SwinLayer(\n",
       "        (layernorm_before): LayerNorm((768,), eps=1e-05, elementwise_affine=True)\n",
       "        (attention): SwinAttention(\n",
       "          (self): SwinSelfAttention(\n",
       "            (query): Linear(in_features=768, out_features=768, bias=True)\n",
       "            (key): Linear(in_features=768, out_features=768, bias=True)\n",
       "            (value): Linear(in_features=768, out_features=768, bias=True)\n",
       "            (dropout): Dropout(p=0.0, inplace=False)\n",
       "          )\n",
       "          (output): SwinSelfOutput(\n",
       "            (dense): Linear(in_features=768, out_features=768, bias=True)\n",
       "            (dropout): Dropout(p=0.0, inplace=False)\n",
       "          )\n",
       "        )\n",
       "        (drop_path): SwinDropPath(p=0.1)\n",
       "        (layernorm_after): LayerNorm((768,), eps=1e-05, elementwise_affine=True)\n",
       "        (intermediate): SwinIntermediate(\n",
       "          (dense): Linear(in_features=768, out_features=3072, bias=True)\n",
       "          (intermediate_act_fn): GELUActivation()\n",
       "        )\n",
       "        (output): SwinOutput(\n",
       "          (dense): Linear(in_features=3072, out_features=768, bias=True)\n",
       "          (dropout): Dropout(p=0.0, inplace=False)\n",
       "        )\n",
       "      )\n",
       "    )\n",
       "  )\n",
       ")"
      ]
     },
     "execution_count": 23,
     "metadata": {},
     "output_type": "execute_result"
    }
   ],
   "source": [
    "swin_model.swin.encoder.layers"
   ]
  },
  {
   "cell_type": "code",
   "execution_count": 24,
   "metadata": {},
   "outputs": [
    {
     "data": {
      "text/plain": [
       "4"
      ]
     },
     "execution_count": 24,
     "metadata": {},
     "output_type": "execute_result"
    }
   ],
   "source": [
    "len(swin_model.swin.encoder.layers)"
   ]
  },
  {
   "cell_type": "markdown",
   "metadata": {},
   "source": [
    "* Stage 0: The first stage has 2 blocks with 96 features. This stage is responsible for processing lower-level information such as edges and textures.\n",
    "* Stage 1: The second stage has 2 blocks with 192 features. This stage processes more complex features, combining the initial low-level information.\n",
    "* Stage 2: The third stage has 6 blocks with 384 features. At this point, the model captures more semantic information and high-level patterns.\n",
    "* Stage 3: The fourth stage has 2 blocks with 768 features. This stage is responsible for the most abstract features and task-specific learning."
   ]
  },
  {
   "cell_type": "code",
   "execution_count": 25,
   "metadata": {},
   "outputs": [
    {
     "name": "stdout",
     "output_type": "stream",
     "text": [
      "Model Hidden Size: 768\n",
      "Activation Function: gelu\n",
      "Classifier: Linear(in_features=768, out_features=1000, bias=True)\n",
      "Encoder Layers: 4\n",
      "✅ Model initialized successfully!\n"
     ]
    }
   ],
   "source": [
    "import torch\n",
    "import torch.nn as nn\n",
    "from transformers import AutoModelForImageClassification\n",
    "\n",
    "# Configuration Variables\n",
    "PRETRAINED_MODEL_NAME = \"microsoft/swin-tiny-patch4-window7-224\"\n",
    "NUM_CLASSES = 14\n",
    "HIDDEN_DIM = 512\n",
    "LORA_R = 8\n",
    "LORA_ALPHA = 32\n",
    "LORA_DROPOUT = 0.1\n",
    "UNFREEZE_LAYERS = 2  # Number of layers to unfreeze\n",
    "\n",
    "# Model Configuration\n",
    "swin_model = AutoModelForImageClassification.from_pretrained(PRETRAINED_MODEL_NAME)\n",
    "model_config = swin_model.config\n",
    "hidden_size = model_config.hidden_size\n",
    "hidden_act = model_config.hidden_act\n",
    "\n",
    "print(f\"Model Hidden Size: {hidden_size}\")\n",
    "print(f\"Activation Function: {hidden_act}\")\n",
    "\n",
    "# Swin Model Details\n",
    "print(f\"Classifier: {swin_model.classifier}\")\n",
    "print(f\"Encoder Layers: {len(swin_model.swin.encoder.layers)}\")\n",
    "\n",
    "\n",
    "class SwinModelWithPEFT(nn.Module):\n",
    "    \"\"\"\n",
    "    Swin Transformer Model with optional Parameter-Efficient Fine-Tuning (PEFT).\n",
    "    \"\"\"\n",
    "\n",
    "    def __init__(\n",
    "        self,\n",
    "        pretrained_model_name=PRETRAINED_MODEL_NAME,\n",
    "        lora_r=LORA_R,\n",
    "        lora_alpha=LORA_ALPHA,\n",
    "        lora_dropout=LORA_DROPOUT,\n",
    "        unfreeze_layers=UNFREEZE_LAYERS,\n",
    "    ):\n",
    "        super(SwinModelWithPEFT, self).__init__()\n",
    "\n",
    "        # Load Pretrained Swin Model\n",
    "        self.backbone = AutoModelForImageClassification.from_pretrained(pretrained_model_name)\n",
    "        self.backbone.classifier = nn.Identity()  # Remove classifier for feature extraction\n",
    "\n",
    "        # LoRA - Skipped due to time constraints, but left for reference\n",
    "        \"\"\"\n",
    "        lora_config = LoraConfig(\n",
    "            r=lora_r,\n",
    "            lora_alpha=lora_alpha,\n",
    "            lora_dropout=lora_dropout,\n",
    "            target_modules=[\"query\", \"value\"],\n",
    "            task_type=\"FEATURE_EXTRACTION\"\n",
    "        )\n",
    "        self.backbone = get_peft_model(self.backbone, lora_config)\n",
    "        \"\"\"\n",
    "\n",
    "        # Unfreeze selected layers\n",
    "        self._unfreeze_layers(unfreeze_layers)\n",
    "\n",
    "    def forward(self, pixel_values):\n",
    "        outputs = self.backbone(pixel_values=pixel_values)\n",
    "        return outputs\n",
    "\n",
    "    def _unfreeze_layers(self, num_layers_to_unfreeze):\n",
    "        \"\"\"\n",
    "        Unfreeze the last `num_layers_to_unfreeze` layers of the Swin model.\n",
    "        \"\"\"\n",
    "        stages = self.backbone.swin.encoder.layers\n",
    "        total_stages = len(stages)\n",
    "\n",
    "        for i, stage in enumerate(stages):\n",
    "            if i < total_stages - num_layers_to_unfreeze:\n",
    "                for param in stage.parameters():\n",
    "                    param.requires_grad = False\n",
    "            else:\n",
    "                for block in stage.blocks:\n",
    "                    for param in block.parameters():\n",
    "                        param.requires_grad = True\n",
    "\n",
    "    def freeze_all_layers(self):\n",
    "        \"\"\"Freeze all layers of the backbone model.\"\"\"\n",
    "        for param in self.backbone.parameters():\n",
    "            param.requires_grad = False\n",
    "\n",
    "    def unfreeze_all_layers(self):\n",
    "        \"\"\"Unfreeze all layers of the backbone model.\"\"\"\n",
    "        for param in self.backbone.parameters():\n",
    "            param.requires_grad = True\n",
    "\n",
    "\n",
    "class MultiLabelClassifier(nn.Module):\n",
    "    \"\"\"\n",
    "    Fully connected classifier for multi-label classification.\n",
    "    \"\"\"\n",
    "\n",
    "    def __init__(self, feature_dim, hidden_dim=HIDDEN_DIM, num_classes=NUM_CLASSES):\n",
    "        super(MultiLabelClassifier, self).__init__()\n",
    "\n",
    "        self.classifier = nn.Sequential(\n",
    "            nn.Linear(feature_dim, hidden_dim),\n",
    "            nn.GELU(),\n",
    "            nn.Dropout(0.3),\n",
    "            nn.Linear(hidden_dim, num_classes),\n",
    "            nn.Sigmoid(),\n",
    "        )\n",
    "\n",
    "    def forward(self, features):\n",
    "        return self.classifier(features)\n",
    "\n",
    "\n",
    "class MultiLabelModel(nn.Module):\n",
    "    \"\"\"\n",
    "    Full model combining feature extraction and multi-label classification.\n",
    "    \"\"\"\n",
    "\n",
    "    def __init__(\n",
    "        self,\n",
    "        pretrained_model_name=PRETRAINED_MODEL_NAME,\n",
    "        num_classes=NUM_CLASSES,\n",
    "        hidden_dim=HIDDEN_DIM,\n",
    "        lora_r=LORA_R,\n",
    "        lora_alpha=LORA_ALPHA,\n",
    "        lora_dropout=LORA_DROPOUT,\n",
    "    ):\n",
    "        super(MultiLabelModel, self).__init__()\n",
    "\n",
    "        # Feature Extractor (Swin Model with optional PEFT)\n",
    "        self.feature_extractor = SwinModelWithPEFT(\n",
    "            pretrained_model_name=pretrained_model_name,\n",
    "            lora_r=lora_r,\n",
    "            lora_alpha=lora_alpha,\n",
    "            lora_dropout=lora_dropout,\n",
    "        )\n",
    "\n",
    "        feature_dim = self.feature_extractor.backbone.config.hidden_size\n",
    "\n",
    "        # Classifier Head\n",
    "        self.classifier = MultiLabelClassifier(\n",
    "            feature_dim=feature_dim,\n",
    "            hidden_dim=hidden_dim,\n",
    "            num_classes=num_classes,\n",
    "        )\n",
    "\n",
    "    def forward(self, pixel_values):\n",
    "        outputs = self.feature_extractor(pixel_values=pixel_values)\n",
    "        features = outputs.logits  # Extract features\n",
    "        logits = self.classifier(features)\n",
    "        return logits\n",
    "\n",
    "\n",
    "# Initialize the model\n",
    "model = MultiLabelModel()\n",
    "print(\"✅ Model initialized successfully!\")\n"
   ]
  },
  {
   "cell_type": "code",
   "execution_count": null,
   "metadata": {},
   "outputs": [],
   "source": [
    "import pandas as pd\n",
    "import numpy as np\n",
    "import matplotlib.pyplot as plt\n",
    "import seaborn as sns\n",
    "\n",
    "# Display column names\n",
    "print(\"Columns in dataset:\", train_labels_raw_df.columns.tolist())\n",
    "\n",
    "# Print distribution for each label\n",
    "for column in train_labels_raw_df.columns[1:]:\n",
    "    print(f\"\\nDistribution of {column}:\")\n",
    "    print(train_labels_raw_df[column].value_counts())\n",
    "\n",
    "# Plot distributions\n",
    "plt.figure(figsize=(12, 8))\n",
    "for i, column in enumerate(train_labels_raw_df.columns[1:]):\n",
    "    plt.subplot(4, 4, i + 1)\n",
    "    sns.countplot(x=column, data=train_labels_raw_df, palette=\"coolwarm\")\n",
    "    plt.title(f\"Distribution of {column}\")\n",
    "    plt.xticks(rotation=45)\n",
    "plt.tight_layout()\n",
    "plt.show()\n"
   ]
  },
  {
   "cell_type": "code",
   "execution_count": null,
   "metadata": {},
   "outputs": [],
   "source": [
    "# Ensure all label columns are numeric\n",
    "train_labels_raw_df.iloc[:, 1:] = train_labels_raw_df.iloc[:, 1:].apply(pd.to_numeric, errors='coerce')\n",
    "\n",
    "# Total number of samples\n",
    "total_samples = len(train_labels_raw_df)\n",
    "\n",
    "# Count number of positive samples per class\n",
    "positive_counts = train_labels_raw_df.iloc[:, 1:].sum(axis=0)\n",
    "\n",
    "# Avoid division by zero: Replace zero counts with a small value\n",
    "positive_counts = positive_counts.replace(0, 1e-6)\n",
    "\n",
    "# Compute class weights using inverse frequency method\n",
    "class_weights = total_samples / positive_counts\n",
    "\n",
    "# Normalize weights (divide by max weight to keep scale reasonable)\n",
    "normalized_class_weights = class_weights / class_weights.max()\n",
    "\n",
    "# Print computed class weights\n",
    "print(\"\\nComputed Class Weights:\\n\", normalized_class_weights)\n",
    "\n",
    "# Verify normalization\n",
    "sum_normalized = normalized_class_weights.sum()\n",
    "sum_original = class_weights.sum()\n",
    "print(f\"Normalized Sum: {sum_normalized}, Original Sum: {sum_original}\")\n"
   ]
  },
  {
   "cell_type": "code",
   "execution_count": null,
   "metadata": {},
   "outputs": [],
   "source": [
    "print(\"Positive Counts per Class:\\n\", positive_counts)\n",
    "positive_counts = positive_counts.replace(0, 1e-6)\n",
    "import pandas as pd\n",
    "\n",
    "# Ensure all label columns are numeric\n",
    "train_labels_raw_df.iloc[:, 1:] = train_labels_raw_df.iloc[:, 1:].apply(pd.to_numeric, errors='coerce')\n",
    "\n",
    "# Total number of samples\n",
    "total_samples = len(train_labels_raw_df)\n",
    "\n",
    "# Count number of positive samples per class\n",
    "positive_counts = train_labels_raw_df.iloc[:, 1:].sum(axis=0)\n",
    "\n",
    "# Debugging: Print positive_counts to check for zeros\n",
    "print(\"Positive Counts per Class:\\n\", positive_counts)\n",
    "\n",
    "# Avoid division by zero: Replace zero counts with a small value\n",
    "positive_counts = positive_counts.replace(0, 1e-6)\n",
    "\n",
    "# Compute class weights using inverse frequency method\n",
    "class_weights = total_samples / positive_counts\n",
    "\n",
    "# Normalize weights (divide by max weight to keep scale reasonable)\n",
    "normalized_class_weights = class_weights / class_weights.max()\n",
    "\n",
    "# Print computed class weights\n",
    "print(\"\\nComputed Class Weights:\\n\", normalized_class_weights)\n",
    "\n",
    "# Verify normalization\n",
    "sum_normalized = normalized_class_weights.sum()\n",
    "sum_original = class_weights.sum()\n",
    "print(f\"Normalized Sum: {sum_normalized}, Original Sum: {sum_original}\")\n"
   ]
  },
  {
   "cell_type": "code",
   "execution_count": null,
   "metadata": {},
   "outputs": [],
   "source": [
    "import pandas as pd\n",
    "\n",
    "# Convert all columns except the first (ID column) to numeric\n",
    "train_labels_raw_df.iloc[:, 1:] = train_labels_raw_df.iloc[:, 1:].apply(pd.to_numeric, errors='coerce')\n",
    "\n",
    "# Select only class label columns (excluding 'class_name', 'rad_id', and any coordinate columns)\n",
    "class_label_columns = [col for col in train_labels_raw_df.columns if 'class' in col.lower()]\n",
    "train_labels_cleaned = train_labels_raw_df[class_label_columns]\n",
    "\n",
    "# Total number of samples\n",
    "total_samples = len(train_labels_cleaned)\n",
    "\n",
    "# Count number of positive samples per class\n",
    "positive_counts = train_labels_cleaned.sum(axis=0)\n",
    "\n",
    "# Debugging: Print positive_counts to check for zeros\n",
    "print(\"Filtered Positive Counts per Class:\\n\", positive_counts)\n",
    "\n",
    "# Avoid division by zero: Replace zero counts with a small value\n",
    "positive_counts = positive_counts.replace(0, 1e-6)\n",
    "\n",
    "# Compute class weights using inverse frequency method\n",
    "class_weights = total_samples / positive_counts\n",
    "\n",
    "# Normalize weights (divide by max weight to keep scale reasonable)\n",
    "normalized_class_weights = class_weights / class_weights.max()\n",
    "\n",
    "# Print computed class weights\n",
    "print(\"\\nComputed Class Weights:\\n\", normalized_class_weights)\n"
   ]
  },
  {
   "cell_type": "code",
   "execution_count": null,
   "metadata": {},
   "outputs": [],
   "source": [
    "# Create a DataFrame for visualization\n",
    "class_counts = train_labels_raw_df.iloc[:, 1:].sum()\n",
    "class_dist_df = pd.DataFrame({'Class': class_counts.index, 'Count': class_counts.values})\n",
    "class_dist_df = class_dist_df.sort_values(by='Count', ascending=False)\n",
    "\n",
    "# Print class distribution\n",
    "print(\"\\nOverall Sample Distribution:\")\n",
    "print(class_dist_df)\n",
    "\n",
    "# Plot class distribution\n",
    "plt.figure(figsize=(10, 6))\n",
    "sns.set_style(\"whitegrid\")\n",
    "sns.barplot(x='Class', y='Count', data=class_dist_df, palette=\"viridis\")\n",
    "plt.title(\"Overall Sample Distribution of Classes\", fontsize=14, fontweight='bold')\n",
    "plt.xlabel(\"Class\", fontsize=12)\n",
    "plt.ylabel(\"Number of Positive Samples\", fontsize=12)\n",
    "plt.xticks(rotation=45, ha='right', fontsize=10)\n",
    "plt.show()\n"
   ]
  },
  {
   "cell_type": "markdown",
   "metadata": {},
   "source": [
    "## Loss calculation"
   ]
  },
  {
   "cell_type": "code",
   "execution_count": 31,
   "metadata": {},
   "outputs": [],
   "source": [
    "import torch\n",
    "import torch.nn as nn\n",
    "import torch.nn.functional as F\n",
    "\n",
    "class ModifiedWeightedFocalLoss(nn.Module):\n",
    "    def __init__(self, class_weights=None, gamma=2.0, alpha=0.25, reduction=\"mean\"):\n",
    "        \"\"\"\n",
    "        Implements Focal Loss with optional class weighting.\n",
    "        - gamma: Focal Loss focusing parameter\n",
    "        - alpha: Balances positive vs negative samples\n",
    "        - class_weights: Precomputed class-wise weights for handling imbalance\n",
    "        \"\"\"\n",
    "        super(ModifiedWeightedFocalLoss, self).__init__()\n",
    "        self.gamma = gamma\n",
    "        self.alpha = alpha\n",
    "        self.reduction = reduction\n",
    "\n",
    "        # Convert class weights to tensor if provided\n",
    "        if class_weights is not None:\n",
    "            self.class_weights = torch.tensor(class_weights, dtype=torch.float32)\n",
    "        else:\n",
    "            self.class_weights = torch.ones(14)  # Default to equal weighting\n",
    "\n",
    "    def forward(self, inputs, targets):\n",
    "        \"\"\"\n",
    "        Computes the focal loss.\n",
    "        - inputs: Model predictions (logits)\n",
    "        - targets: True labels (binary)\n",
    "        \"\"\"\n",
    "        # Apply sigmoid activation\n",
    "        probas = torch.sigmoid(inputs)\n",
    "\n",
    "        # Compute Binary Cross Entropy (BCE) loss\n",
    "        bce_loss = F.binary_cross_entropy(probas, targets, reduction=\"none\")\n",
    "\n",
    "        # Compute modulating factor: (1 - p_t)^gamma\n",
    "        p_t = probas * targets + (1 - probas) * (1 - targets)\n",
    "        modulating_factor = (1 - p_t) ** self.gamma\n",
    "\n",
    "        # Compute final weighted focal loss\n",
    "        focal_loss = self.alpha * modulating_factor * bce_loss\n",
    "\n",
    "        # Apply class weights\n",
    "        weighted_loss = focal_loss * self.class_weights.to(inputs.device)\n",
    "\n",
    "        # Compute final loss reduction\n",
    "        if self.reduction == \"mean\":\n",
    "            return weighted_loss.mean()\n",
    "        elif self.reduction == \"sum\":\n",
    "            return weighted_loss.sum()\n",
    "        else:\n",
    "            return weighted_loss\n"
   ]
  },
  {
   "cell_type": "code",
   "execution_count": 32,
   "metadata": {},
   "outputs": [
    {
     "name": "stdout",
     "output_type": "stream",
     "text": [
      "\n",
      "Sum of Normalized Weights: 1.0000000000072113\n",
      "Sum of Original Weights: 12000000000.086536\n",
      "Ratio of Normalized to Original Weights: 0.0000\n"
     ]
    }
   ],
   "source": [
    "# Sum of normalized weights vs. original weights\n",
    "sum_normalized = normalized_class_weights.values.sum()\n",
    "sum_original = class_weights.values.sum()\n",
    "\n",
    "print(f\"\\nSum of Normalized Weights: {sum_normalized}\")\n",
    "print(f\"Sum of Original Weights: {sum_original}\")\n",
    "\n",
    "# Ratio between normalized and original\n",
    "weight_ratio = sum_normalized / sum_original\n",
    "print(f\"Ratio of Normalized to Original Weights: {weight_ratio:.4f}\")\n"
   ]
  },
  {
   "cell_type": "code",
   "execution_count": 33,
   "metadata": {},
   "outputs": [
    {
     "name": "stdout",
     "output_type": "stream",
     "text": [
      "Selected Class Label Columns: ['class_id', 'x_min', 'y_min', 'x_max', 'y_max']\n",
      "\n",
      "Computed Class Weights:\n",
      " class_id    1.000000\n",
      "x_min       0.037184\n",
      "y_min       0.038043\n",
      "x_max       0.025615\n",
      "y_max       0.027742\n",
      "dtype: float64\n"
     ]
    }
   ],
   "source": [
    "# Identify only numeric class labels (exclude non-numeric columns like 'class_name')\n",
    "class_label_columns = train_labels_raw_df.select_dtypes(include=['number']).columns.tolist()\n",
    "\n",
    "# Ensure we're not keeping unwanted columns like IDs\n",
    "exclude_columns = ['class_name', 'rad_id']  # Add more if needed\n",
    "class_label_columns = [col for col in class_label_columns if col not in exclude_columns]\n",
    "\n",
    "# Use only relevant class labels\n",
    "train_labels_cleaned = train_labels_raw_df[class_label_columns]\n",
    "\n",
    "# Debug: Print the selected columns\n",
    "print(\"Selected Class Label Columns:\", class_label_columns)\n",
    "\n",
    "# Compute positive sample counts per class\n",
    "positive_counts = train_labels_cleaned.sum(axis=0)\n",
    "\n",
    "# Avoid division by zero\n",
    "positive_counts = positive_counts.replace(0, 1e-6)\n",
    "\n",
    "# Compute class weights\n",
    "class_weights = len(train_labels_cleaned) / positive_counts\n",
    "\n",
    "# Normalize class weights\n",
    "normalized_class_weights = class_weights / class_weights.max()\n",
    "\n",
    "# Print computed class weights\n",
    "print(\"\\nComputed Class Weights:\\n\", normalized_class_weights)\n"
   ]
  },
  {
   "cell_type": "code",
   "execution_count": 34,
   "metadata": {},
   "outputs": [
    {
     "data": {
      "text/plain": [
       "class_name    NaN\n",
       "class_id       14\n",
       "rad_id        NaN\n",
       "x_min         NaN\n",
       "y_min         NaN\n",
       "x_max         NaN\n",
       "y_max         NaN\n",
       "Name: 0, dtype: object"
      ]
     },
     "execution_count": 34,
     "metadata": {},
     "output_type": "execute_result"
    }
   ],
   "source": [
    "train_labels_raw_df.iloc[0, 1:]"
   ]
  },
  {
   "cell_type": "code",
   "execution_count": 35,
   "metadata": {},
   "outputs": [
    {
     "name": "stdout",
     "output_type": "stream",
     "text": [
      "\n",
      "Overall Sample Distribution:\n",
      "        Class      Count\n",
      "5       x_max  5413559.0\n",
      "6       y_max  4998487.0\n",
      "3       x_min  3729301.0\n",
      "4       y_min  3645029.0\n",
      "1    class_id     138669\n",
      "0  class_name          0\n",
      "2      rad_id          0\n"
     ]
    },
    {
     "data": {
      "image/png": "[encoded data removed]",
      "text/plain": [
       "<Figure size 1000x600 with 1 Axes>"
      ]
     },
     "metadata": {},
     "output_type": "display_data"
    }
   ],
   "source": [
    "class_counts = train_labels_raw_df.iloc[:, 1:].sum()\n",
    "\n",
    "class_dist_df = pd.DataFrame({'Class': class_counts.index, 'Count': class_counts.values})\n",
    "class_dist_df = class_dist_df.sort_values(by='Count', ascending=False)\n",
    "\n",
    "print(\"\\nOverall Sample Distribution:\")\n",
    "print(class_dist_df)\n",
    "\n",
    "plt.figure(figsize=(10, 6))\n",
    "sns.set_style(\"whitegrid\")\n",
    "sns.barplot(x='Class', y='Count', data=class_dist_df, palette=\"viridis\", hue='Class')\n",
    "plt.title(\"Overall Sample Distribution of Classes\", fontsize=14, fontweight='bold')\n",
    "plt.xlabel(\"Class\", fontsize=12)\n",
    "plt.ylabel(\"Number of Positive Samples\", fontsize=12)\n",
    "plt.xticks(rotation=45, ha='right', fontsize=10)\n",
    "plt.show()\n"
   ]
  },
  {
   "cell_type": "code",
   "execution_count": 36,
   "metadata": {},
   "outputs": [],
   "source": [
    "class ModifiedWeightedFocalLoss(nn.Module):\n",
    "    def __init__(self, class_weights=None, gamma=2.0, alpha=0.25, reduction=\"mean\"):\n",
    "        super(ModifiedWeightedFocalLoss, self).__init__()\n",
    "        self.gamma = gamma\n",
    "        self.alpha = alpha\n",
    "        self.reduction = reduction\n",
    "        \n",
    "        if class_weights is not None:\n",
    "            self.class_weights = class_weights\n",
    "        else:\n",
    "            self.class_weights = torch.ones(14)\n",
    "\n",
    "    def forward(self, inputs, targets):\n",
    "\n",
    "        probas = torch.sigmoid(inputs)\n",
    "\n",
    "        bce_loss = F.binary_cross_entropy(probas, targets, reduction=\"none\")\n",
    "        \n",
    "        # modulating factor (1 - p_t) ** gamma\n",
    "        p_t = probas * targets + (1 - probas) * (1 - targets)\n",
    "        modulating_factor = (1 - p_t) ** self.gamma\n",
    "        \n",
    "        # focal loss term\n",
    "        focal_loss = self.alpha * modulating_factor * bce_loss\n",
    "\n",
    "        weighted_loss = focal_loss * self.class_weights\n",
    "\n",
    "        # final loss\n",
    "        if self.reduction == \"mean\":\n",
    "            return weighted_loss.mean()\n",
    "        elif self.reduction == \"sum\":\n",
    "            return weighted_loss.sum()\n",
    "        else:\n",
    "            return weighted_loss\n"
   ]
  },
  {
   "cell_type": "code",
   "execution_count": 37,
   "metadata": {},
   "outputs": [
    {
     "data": {
      "text/plain": [
       "class_name            0\n",
       "class_id         138669\n",
       "rad_id                0\n",
       "x_min         3729301.0\n",
       "y_min         3645029.0\n",
       "x_max         5413559.0\n",
       "y_max         4998487.0\n",
       "dtype: object"
      ]
     },
     "execution_count": 37,
     "metadata": {},
     "output_type": "execute_result"
    }
   ],
   "source": [
    "class_counts"
   ]
  },
  {
   "cell_type": "code",
   "execution_count": 38,
   "metadata": {},
   "outputs": [
    {
     "name": "stdout",
     "output_type": "stream",
     "text": [
      "\n",
      "Computed Class Weights:\n",
      " class_name    1.000000e+00\n",
      "class_id      7.211417e-12\n",
      "rad_id        1.000000e+00\n",
      "dtype: float64\n",
      "Sum of Normalized Weights: 2.000000000007211\n",
      "Sum of Original Weights: 24000000000.086536\n",
      "Ratio of Normalized to Original Weights: 0.0000\n"
     ]
    }
   ],
   "source": [
    "import pandas as pd\n",
    "import torch\n",
    "\n",
    "# Ensure all label columns are numeric\n",
    "train_labels_raw_df.iloc[:, 1:] = train_labels_raw_df.iloc[:, 1:].apply(pd.to_numeric, errors='coerce')\n",
    "\n",
    "# Exclude non-class columns (metadata)\n",
    "exclude_columns = ['image_id', 'x_min', 'y_min', 'x_max', 'y_max']  \n",
    "class_label_columns = [col for col in train_labels_raw_df.columns if col not in exclude_columns]\n",
    "train_labels_cleaned = train_labels_raw_df[class_label_columns]\n",
    "\n",
    "# Convert all values to numeric and fill NaNs with 0\n",
    "train_labels_cleaned = train_labels_cleaned.apply(pd.to_numeric, errors='coerce').fillna(0)\n",
    "\n",
    "# Compute positive sample counts per class\n",
    "total_samples = len(train_labels_cleaned)\n",
    "positive_counts = train_labels_cleaned.sum(axis=0)\n",
    "\n",
    "# Ensure no zero values in denominators to avoid division errors\n",
    "positive_counts = positive_counts.replace(0, 1e-6)\n",
    "\n",
    "# Compute and normalize class weights\n",
    "class_weights = total_samples / positive_counts\n",
    "normalized_class_weights = class_weights / class_weights.max()\n",
    "\n",
    "# Debugging: Print computed class weights\n",
    "print(\"\\nComputed Class Weights:\\n\", normalized_class_weights)\n",
    "print(f\"Sum of Normalized Weights: {normalized_class_weights.sum()}\")\n",
    "print(f\"Sum of Original Weights: {class_weights.sum()}\")\n",
    "print(f\"Ratio of Normalized to Original Weights: {normalized_class_weights.sum() / class_weights.sum():.4f}\")\n",
    "\n",
    "# Convert to PyTorch tensor\n",
    "weights = torch.tensor(normalized_class_weights.values, dtype=torch.float32)\n"
   ]
  },
  {
   "cell_type": "code",
   "execution_count": null,
   "metadata": {},
   "outputs": [],
   "source": [
    "# Create a DataFrame for visualization\n",
    "class_counts = train_labels_cleaned.sum()\n",
    "class_dist_df = pd.DataFrame({'Class': class_counts.index, 'Count': class_counts.values})\n",
    "class_dist_df = class_dist_df.sort_values(by='Count', ascending=False)\n",
    "\n",
    "# Print and visualize class distribution\n",
    "print(\"\\nOverall Sample Distribution:\")\n",
    "print(class_dist_df)\n",
    "\n",
    "plt.figure(figsize=(10, 6))\n",
    "sns.set_style(\"whitegrid\")\n",
    "sns.barplot(x='Class', y='Count', data=class_dist_df, palette=\"viridis\")\n",
    "plt.title(\"Overall Sample Distribution of Classes\", fontsize=14, fontweight='bold')\n",
    "plt.xlabel(\"Class\", fontsize=12)\n",
    "plt.ylabel(\"Number of Positive Samples\", fontsize=12)\n",
    "plt.xticks(rotation=45, ha='right', fontsize=10)\n",
    "plt.show()\n"
   ]
  },
  {
   "cell_type": "code",
   "execution_count": 40,
   "metadata": {},
   "outputs": [],
   "source": [
    "class ModifiedWeightedFocalLoss(nn.Module):\n",
    "    def __init__(self, class_weights=None, gamma=2.0, alpha=0.25, reduction=\"mean\"):\n",
    "        super(ModifiedWeightedFocalLoss, self).__init__()\n",
    "        self.gamma = gamma\n",
    "        self.alpha = alpha\n",
    "        self.reduction = reduction\n",
    "        self.class_weights = class_weights if class_weights is not None else torch.ones(len(class_weights))\n",
    "\n",
    "    def forward(self, inputs, targets):\n",
    "        probas = torch.sigmoid(inputs)\n",
    "        bce_loss = F.binary_cross_entropy(probas, targets, reduction=\"none\")\n",
    "\n",
    "        # Compute modulating factor (1 - p_t)^gamma\n",
    "        p_t = probas * targets + (1 - probas) * (1 - targets)\n",
    "        modulating_factor = (1 - p_t) ** self.gamma\n",
    "\n",
    "        # Compute final focal loss\n",
    "        focal_loss = self.alpha * modulating_factor * bce_loss\n",
    "        weighted_loss = focal_loss * self.class_weights.to(inputs.device)\n",
    "\n",
    "        return weighted_loss.mean() if self.reduction == \"mean\" else weighted_loss.sum()\n"
   ]
  },
  {
   "cell_type": "code",
   "execution_count": null,
   "metadata": {},
   "outputs": [],
   "source": [
    "from torch.optim import AdamW\n",
    "from torch.optim.lr_scheduler import OneCycleLR\n",
    "from PIL import Image\n",
    "\n",
    "# Set device\n",
    "device = torch.device(\"cuda\" if torch.cuda.is_available() else \"cpu\")\n",
    "\n",
    "# Define optimizer and scheduler\n",
    "optimizer = AdamW(model.parameters(), lr=1e-4, weight_decay=0.01)\n",
    "scheduler = OneCycleLR(optimizer, max_lr=1e-4, steps_per_epoch=len(train_loader), epochs=50)\n",
    "\n",
    "# Define loss function with computed weights\n",
    "criterion = ModifiedWeightedFocalLoss(class_weights=weights, gamma=2.0, alpha=0.25, reduction=\"mean\")\n",
    "\n",
    "# Sample image processing\n",
    "image_path = r\"C:\\Users\\Documents\\cdac\\Extracted_DATASET\\train\\00000008_001.png\"\n",
    "image = Image.open(image_path).convert(\"RGB\")\n",
    "processed_image = swin_image_processor(image, return_tensors=\"pt\")\n",
    "\n",
    "# Extract model components\n",
    "pixel_values = processed_image[\"pixel_values\"]\n",
    "model_feature_extractor = model.feature_extractor\n",
    "model_classifier = model.classifier\n"
   ]
  },
  {
   "cell_type": "code",
   "execution_count": 42,
   "metadata": {},
   "outputs": [
    {
     "name": "stdout",
     "output_type": "stream",
     "text": [
      "Index(['image_id', 'class_name', 'class_id', 'rad_id', 'x_min', 'y_min',\n",
      "       'x_max', 'y_max'],\n",
      "      dtype='object')\n",
      "[]\n",
      "                           image_id  class_name  class_id rad_id  x_min  \\\n",
      "0  4d4bffa2926bfcb4851b5e968136b047  No finding        14    R12    0.0   \n",
      "1  252353e9dd191831175accddf57e9625  No finding        14     R9    0.0   \n",
      "2  328e89c3bad7c078d2295a666e496bc7  No finding        14    R16    0.0   \n",
      "3  139282fc433f147aba91c6a99b8376c3  No finding        14     R8    0.0   \n",
      "4  d558c4e784e7c5808e1226f1f0f3559b  No finding        14     R1    0.0   \n",
      "\n",
      "   y_min  x_max  y_max  \n",
      "0    0.0    0.0    0.0  \n",
      "1    0.0    0.0    0.0  \n",
      "2    0.0    0.0    0.0  \n",
      "3    0.0    0.0    0.0  \n",
      "4    0.0    0.0    0.0  \n",
      "<class 'pandas.core.frame.DataFrame'>\n",
      "RangeIndex: 12000 entries, 0 to 11999\n",
      "Data columns (total 8 columns):\n",
      " #   Column      Non-Null Count  Dtype  \n",
      "---  ------      --------------  -----  \n",
      " 0   image_id    12000 non-null  object \n",
      " 1   class_name  12000 non-null  object \n",
      " 2   class_id    12000 non-null  int64  \n",
      " 3   rad_id      12000 non-null  object \n",
      " 4   x_min       12000 non-null  float64\n",
      " 5   y_min       12000 non-null  float64\n",
      " 6   x_max       12000 non-null  float64\n",
      " 7   y_max       12000 non-null  float64\n",
      "dtypes: float64(4), int64(1), object(3)\n",
      "memory usage: 750.1+ KB\n",
      "None\n",
      "image_id      0\n",
      "class_name    0\n",
      "class_id      0\n",
      "rad_id        0\n",
      "x_min         0\n",
      "y_min         0\n",
      "x_max         0\n",
      "y_max         0\n",
      "dtype: int64\n"
     ]
    }
   ],
   "source": [
    "print(train_labels_df.columns)\n",
    "print([col for col in train_labels_df.columns if \"atelectasis\" in col.lower()])\n",
    "print(train_labels_df.head())\n",
    "print(train_labels_df.info())\n",
    "train_labels_df.rename(columns=lambda x: x.strip(), inplace=True)\n",
    "print(train_labels_df.isna().sum())\n"
   ]
  },
  {
   "cell_type": "code",
   "execution_count": null,
   "metadata": {},
   "outputs": [],
   "source": [
    "train_labels_df[\"Atelectasis\"] = train_labels_df[\"class_name_Atelectasis\"]\n",
    "atelectasis_col = [col for col in train_labels_df.columns if \"Atelectasis\" in col]\n",
    "if atelectasis_col:\n",
    "    train_labels_df[\"Atelectasis\"] = train_labels_df[atelectasis_col[0]]\n"
   ]
  },
  {
   "cell_type": "code",
   "execution_count": null,
   "metadata": {},
   "outputs": [
    {
     "name": "stdout",
     "output_type": "stream",
     "text": [
      "Index(['image_id', 'class_id', 'rad_id', 'x_min', 'y_min', 'x_max', 'y_max',\n",
      "       'class_name_Aortic enlargement', 'class_name_Atelectasis',\n",
      "       'class_name_Calcification', 'class_name_Cardiomegaly',\n",
      "       'class_name_Consolidation', 'class_name_ILD', 'class_name_Infiltration',\n",
      "       'class_name_Lung Opacity', 'class_name_No finding',\n",
      "       'class_name_Nodule/Mass', 'class_name_Other lesion',\n",
      "       'class_name_Pleural effusion', 'class_name_Pleural thickening',\n",
      "       'class_name_Pneumothorax', 'class_name_Pulmonary fibrosis',\n",
      "       'Atelectasis'],\n",
      "      dtype='object')\n"
     ]
    },
    {
     "ename": "NameError",
     "evalue": "name 'self' is not defined",
     "output_type": "error",
     "traceback": [
      "\u001b[1;31m---------------------------------------------------------------------------\u001b[0m",
      "\u001b[1;31mNameError\u001b[0m                                 Traceback (most recent call last)",
      "Cell \u001b[1;32mIn[73], line 11\u001b[0m\n\u001b[0;32m      9\u001b[0m     \u001b[38;5;28;01mreturn\u001b[39;00m DataLoader(train_subset, batch_size\u001b[38;5;241m=\u001b[39m\u001b[38;5;28mself\u001b[39m\u001b[38;5;241m.\u001b[39mbatch_size, shuffle\u001b[38;5;241m=\u001b[39m\u001b[38;5;28mself\u001b[39m\u001b[38;5;241m.\u001b[39mshuffle), DataLoader(val_subset, batch_size\u001b[38;5;241m=\u001b[39m\u001b[38;5;28mself\u001b[39m\u001b[38;5;241m.\u001b[39mbatch_size, shuffle\u001b[38;5;241m=\u001b[39m\u001b[38;5;28;01mFalse\u001b[39;00m)\n\u001b[0;32m     10\u001b[0m \u001b[38;5;28mprint\u001b[39m(train_labels_df\u001b[38;5;241m.\u001b[39mcolumns)\n\u001b[1;32m---> 11\u001b[0m atelectasis_col \u001b[38;5;241m=\u001b[39m [col \u001b[38;5;28;01mfor\u001b[39;00m col \u001b[38;5;129;01min\u001b[39;00m \u001b[38;5;28;43mself\u001b[39;49m\u001b[38;5;241m.\u001b[39mtrain_labels_df\u001b[38;5;241m.\u001b[39mcolumns \u001b[38;5;28;01mif\u001b[39;00m \u001b[38;5;124m\"\u001b[39m\u001b[38;5;124mAtelectasis\u001b[39m\u001b[38;5;124m\"\u001b[39m \u001b[38;5;129;01min\u001b[39;00m col]\n\u001b[0;32m     12\u001b[0m \u001b[38;5;28;01mif\u001b[39;00m \u001b[38;5;129;01mnot\u001b[39;00m atelectasis_col:\n\u001b[0;32m     13\u001b[0m     \u001b[38;5;28;01mraise\u001b[39;00m \u001b[38;5;167;01mValueError\u001b[39;00m(\u001b[38;5;124m\"\u001b[39m\u001b[38;5;124mNo \u001b[39m\u001b[38;5;124m'\u001b[39m\u001b[38;5;124mAtelectasis\u001b[39m\u001b[38;5;124m'\u001b[39m\u001b[38;5;124m column found in train_labels_df. Check column names.\u001b[39m\u001b[38;5;124m\"\u001b[39m)\n",
      "\u001b[1;31mNameError\u001b[0m: name 'self' is not defined"
     ]
    }
   ],
   "source": [
    "def get_data_loaders(self, fold):\n",
    "    atelectasis_col = [col for col in self.train_labels_df.columns if \"Atelectasis\" in col]\n",
    "    if not atelectasis_col:\n",
    "        raise ValueError(\"No 'Atelectasis' column found in train_labels_df. Check column names.\")\n",
    "\n",
    "    train_idx, val_idx = list(self.kfold.split(self.train_labels_df, self.train_labels_df[atelectasis_col[0]]))[fold]\n",
    "    train_subset = Subset(self.train_dataset, train_idx)\n",
    "    val_subset = Subset(self.train_dataset, val_idx)\n",
    "    return DataLoader(train_subset, batch_size=self.batch_size, shuffle=self.shuffle), DataLoader(val_subset, batch_size=self.batch_size, shuffle=False)\n",
    "print(train_labels_df.columns)\n",
    "atelectasis_col = [col for col in self.train_labels_df.columns if \"Atelectasis\" in col]\n",
    "if not atelectasis_col:\n",
    "    raise ValueError(\"No 'Atelectasis' column found in train_labels_df. Check column names.\")\n",
    "train_idx, val_idx = list(self.kfold.split(self.train_labels_df, self.train_labels_df[atelectasis_col[0]]))[fold]\n",
    "print(train_labels_df.head())  # Inspect first few rows\n",
    "print(train_labels_df.columns) # Check column names\n",
    "train_labels_df = pd.get_dummies(train_labels_df, columns=[\"class_name\"])\n",
    "train_labels_df[\"Atelectasis\"] = train_labels_df[\"class_name_Atelectasis\"]\n"
   ]
  },
  {
   "cell_type": "code",
   "execution_count": null,
   "metadata": {},
   "outputs": [],
   "source": [
    "class StratifiedKFoldCV:\n",
    "    def __init__(self, train_dataset, train_labels_df, val_dataset=None, val_labels_df=None,\n",
    "                 k_folds=5, batch_size=32, shuffle=True, random_seed=42, log_dir=\"runs/stratified_kfold\"):\n",
    "        self.train_dataset = train_dataset\n",
    "        self.train_labels_df = train_labels_df\n",
    "        self.val_dataset = val_dataset\n",
    "        self.val_labels_df = val_labels_df\n",
    "        self.k_folds = k_folds\n",
    "        self.batch_size = batch_size\n",
    "        self.shuffle = shuffle\n",
    "        self.random_seed = random_seed\n",
    "        self.log_dir = log_dir\n",
    "        self.kfold = StratifiedKFold(n_splits=k_folds, shuffle=shuffle, random_state=random_seed)\n",
    "        self.writer = SummaryWriter(log_dir)\n",
    "        self.save_dir = \"model_weights\"\n",
    "\n",
    "    def get_data_loaders(self, fold):\n",
    "        train_idx, val_idx = list(self.kfold.split(self.train_labels_df, self.train_labels_df['Atelectasis']))[fold]\n",
    "        train_subset = Subset(self.train_dataset, train_idx)\n",
    "        val_subset = Subset(self.train_dataset, val_idx)\n",
    "        train_loader = DataLoader(train_subset, batch_size=self.batch_size, shuffle=self.shuffle)\n",
    "        val_loader = DataLoader(val_subset, batch_size=self.batch_size, shuffle=False)\n",
    "        return train_loader, val_loader\n",
    "\n",
    "    def train(self, model, optimizer, scheduler, criterion, device, train_loader, epoch):\n",
    "        model.train()\n",
    "        running_train_loss = 0.0\n",
    "        correct_train_predictions = 0\n",
    "        total_train_samples = 0\n",
    "        all_train_labels = []\n",
    "        all_train_preds = []\n",
    "\n",
    "        for images, labels in tqdm(train_loader, desc=f\"Training Epoch {epoch + 1}\", leave=False):\n",
    "            images, labels = images.to(device), labels.to(device)\n",
    "            optimizer.zero_grad()\n",
    "            outputs = model(images)\n",
    "            loss = criterion(outputs, labels)\n",
    "            loss.backward()\n",
    "            torch.nn.utils.clip_grad_norm_(model.parameters(), max_norm=1.0)\n",
    "            optimizer.step()\n",
    "            scheduler.step()\n",
    "            running_train_loss += loss.item()\n",
    "            predictions = (outputs > 0.5).float()\n",
    "            correct_train_predictions += (predictions == labels).sum().item()\n",
    "            total_train_samples += labels.numel()\n",
    "            all_train_labels.append(labels.cpu().numpy())\n",
    "            all_train_preds.append(predictions.cpu().numpy())\n",
    "\n",
    "        avg_train_loss = running_train_loss / len(train_loader)\n",
    "        train_accuracy = correct_train_predictions / total_train_samples * 100\n",
    "        all_train_labels = np.concatenate(all_train_labels)\n",
    "        all_train_preds = np.concatenate(all_train_preds)\n",
    "        train_f1 = f1_score(all_train_labels, all_train_preds, average='macro')\n",
    "        return avg_train_loss, train_accuracy, train_f1\n",
    "\n",
    "    def validate(self, model, criterion, device, val_loader, epoch):\n",
    "        model.eval()\n",
    "        running_val_loss = 0.0\n",
    "        correct_val_predictions = 0\n",
    "        total_val_samples = 0\n",
    "        all_val_labels = []\n",
    "        all_val_preds = []\n",
    "\n",
    "        with torch.no_grad():\n",
    "            for images, labels in tqdm(val_loader, desc=\"Validating\", leave=False):\n",
    "                images, labels = images.to(device), labels.to(device)\n",
    "                outputs = model(images)\n",
    "                loss = criterion(outputs, labels)\n",
    "                running_val_loss += loss.item()\n",
    "                predictions = (outputs > 0.5).float()\n",
    "                correct_val_predictions += (predictions == labels).sum().item()\n",
    "                total_val_samples += labels.numel()\n",
    "                all_val_labels.append(labels.cpu().numpy())\n",
    "                all_val_preds.append(predictions.cpu().numpy())\n",
    "\n",
    "        avg_val_loss = running_val_loss / len(val_loader)\n",
    "        val_accuracy = correct_val_predictions / total_val_samples * 100\n",
    "        all_val_labels = np.concatenate(all_val_labels)\n",
    "        all_val_preds = np.concatenate(all_val_preds)\n",
    "        val_f1 = f1_score(all_val_labels, all_val_preds, average='macro')\n",
    "        return avg_val_loss, val_accuracy, val_f1\n",
    "\n",
    "    def run(self, model, optimizer, scheduler, criterion, device, num_epochs=25):\n",
    "        fold_train_losses = []\n",
    "        fold_val_losses = []\n",
    "        fold_val_accuracies = []\n",
    "        fold_val_f1_scores = []\n",
    "\n",
    "        for fold in range(self.k_folds):\n",
    "            train_loader, val_loader = self.get_data_loaders(fold)\n",
    "            for epoch in range(num_epochs):\n",
    "                avg_train_loss, train_accuracy, train_f1 = self.train(\n",
    "                    model, optimizer, scheduler, criterion, device, train_loader, epoch\n",
    "                )\n",
    "                avg_val_loss, val_accuracy, val_f1 = self.validate(\n",
    "                    model, criterion, device, val_loader, epoch\n",
    "                )\n",
    "                self.writer.add_scalars('Loss', {'train': avg_train_loss, 'val': avg_val_loss}, epoch)\n",
    "                self.writer.add_scalars('Accuracy', {'train': train_accuracy, 'val': val_accuracy}, epoch)\n",
    "                self.writer.add_scalars('F1 Score', {'train': train_f1, 'val': val_f1}, epoch)\n",
    "\n",
    "            fold_train_losses.append(avg_train_loss)\n",
    "            fold_val_losses.append(avg_val_loss)\n",
    "            fold_val_accuracies.append(val_accuracy)\n",
    "            fold_val_f1_scores.append(val_f1)\n",
    "            torch.save(model.state_dict(), self.save_dir + f\"_fold{fold}\")\n",
    "\n",
    "        avg_train_loss = sum(fold_train_losses) / len(fold_train_losses)\n",
    "        avg_val_loss = sum(fold_val_losses) / len(fold_val_losses)\n",
    "        avg_val_accuracy = sum(fold_val_accuracies) / len(fold_val_accuracies)\n",
    "        avg_val_f1 = sum(fold_val_f1_scores) / len(fold_val_f1_scores)\n",
    "        return avg_train_loss, avg_val_loss, avg_val_accuracy, avg_val_f1\n",
    "\n",
    "stratified_kfold = StratifiedKFoldCV(\n",
    "    train_dataset=train_dataset,\n",
    "    train_labels_df=train_labels_raw_df,\n",
    "    val_dataset=val_dataset,\n",
    "    val_labels_df=val_labels_raw_df,\n",
    "    k_folds=5\n",
    ")\n",
    "\n",
    "avg_train_loss, avg_val_loss, avg_val_accuracy = stratified_kfold.run(model, optimizer, scheduler, criterion, device)\n"
   ]
  },
  {
   "cell_type": "code",
   "execution_count": null,
   "metadata": {},
   "outputs": [],
   "source": [
    "total_samples = len(train_labels_raw_df)\n",
    "\n",
    "positive_counts = train_labels_raw_df.iloc[:, 1:].sum(axis=0)\n",
    "\n",
    "class_weights = total_samples / positive_counts\n",
    "\n",
    "normalized_class_weights = class_weights / class_weights.max()"
   ]
  },
  {
   "cell_type": "code",
   "execution_count": null,
   "metadata": {},
   "outputs": [],
   "source": []
  },
  {
   "cell_type": "code",
   "execution_count": null,
   "metadata": {},
   "outputs": [],
   "source": []
  },
  {
   "cell_type": "code",
   "execution_count": 51,
   "metadata": {},
   "outputs": [
    {
     "data": {
      "text/plain": [
       "array([1.        , 0.03718364, 0.03804332, 0.02561513, 0.02774219])"
      ]
     },
     "execution_count": 51,
     "metadata": {},
     "output_type": "execute_result"
    }
   ],
   "source": [
    "normalized_class_weights.values"
   ]
  },
  {
   "cell_type": "code",
   "execution_count": 41,
   "metadata": {},
   "outputs": [
    {
     "data": {
      "text/plain": [
       "1.8668919412990093"
      ]
     },
     "execution_count": 41,
     "metadata": {},
     "output_type": "execute_result"
    }
   ],
   "source": [
    "normalized_class_weights.values.sum()"
   ]
  },
  {
   "cell_type": "code",
   "execution_count": 42,
   "metadata": {},
   "outputs": [
    {
     "data": {
      "text/plain": [
       "859.2573082865788"
      ]
     },
     "execution_count": 42,
     "metadata": {},
     "output_type": "execute_result"
    }
   ],
   "source": [
    "class_weights.values.sum()"
   ]
  },
  {
   "cell_type": "code",
   "execution_count": 43,
   "metadata": {},
   "outputs": [
    {
     "data": {
      "text/plain": [
       "pandas.core.series.Series"
      ]
     },
     "execution_count": 43,
     "metadata": {},
     "output_type": "execute_result"
    }
   ],
   "source": [
    "type(normalized_class_weights)"
   ]
  },
  {
   "cell_type": "code",
   "execution_count": 44,
   "metadata": {},
   "outputs": [],
   "source": [
    "weights = torch.tensor(normalized_class_weights.values)"
   ]
  },
  {
   "cell_type": "code",
   "execution_count": 45,
   "metadata": {},
   "outputs": [
    {
     "data": {
      "text/plain": [
       "tensor([0.0217, 0.0829, 0.0187, 0.0123, 0.0481, 0.0396, 0.1565, 0.0482, 0.0519,\n",
       "        0.0991, 0.0838, 0.1314, 0.0727, 1.0000], dtype=torch.float64)"
      ]
     },
     "execution_count": 45,
     "metadata": {},
     "output_type": "execute_result"
    }
   ],
   "source": [
    "weights"
   ]
  },
  {
   "cell_type": "markdown",
   "metadata": {},
   "source": [
    "## Train"
   ]
  },
  {
   "cell_type": "markdown",
   "metadata": {},
   "source": [
    "### Param"
   ]
  },
  {
   "cell_type": "code",
   "execution_count": null,
   "metadata": {},
   "outputs": [],
   "source": [
    "device = torch.device(\"cuda\" if torch.cuda.is_available() else \"cpu\")\n",
    "\n",
    "\n",
    "optimizer = AdamW(model.parameters(), lr=1e-4, weight_decay=0.01)\n",
    "scheduler = OneCycleLR(optimizer, max_lr=1e-4, steps_per_epoch=len(train_loader), epochs=50)\n",
    "criterion = ModifiedWeightedFocalLoss(class_weights=weights, gamma=2.0, alpha=0.25, reduction=\"mean\")"
   ]
  },
  {
   "cell_type": "code",
   "execution_count": 47,
   "metadata": {},
   "outputs": [],
   "source": [
    "sample_data = train_dataset[0]"
   ]
  },
  {
   "cell_type": "code",
   "execution_count": 48,
   "metadata": {},
   "outputs": [
    {
     "data": {
      "text/plain": [
       "tuple"
      ]
     },
     "execution_count": 48,
     "metadata": {},
     "output_type": "execute_result"
    }
   ],
   "source": [
    "type(sample_data)"
   ]
  },
  {
   "cell_type": "code",
   "execution_count": null,
   "metadata": {},
   "outputs": [],
   "source": [
    "image_path = r\"C:\\Users\\Documents\\cdac\\Extracted_DATASET\\train\\00000008_001.png\"\n"
   ]
  },
  {
   "cell_type": "code",
   "execution_count": 50,
   "metadata": {},
   "outputs": [],
   "source": [
    "image = Image.open(image_path).convert(\"RGB\")\n",
    "processed_image = swin_image_processor(image, return_tensors=\"pt\")"
   ]
  },
  {
   "cell_type": "code",
   "execution_count": 51,
   "metadata": {},
   "outputs": [
    {
     "data": {
      "text/plain": [
       "dict_keys(['pixel_values'])"
      ]
     },
     "execution_count": 51,
     "metadata": {},
     "output_type": "execute_result"
    }
   ],
   "source": [
    "processed_image.keys()"
   ]
  },
  {
   "cell_type": "code",
   "execution_count": 52,
   "metadata": {},
   "outputs": [
    {
     "data": {
      "text/plain": [
       "torch.Size([1, 3, 224, 224])"
      ]
     },
     "execution_count": 52,
     "metadata": {},
     "output_type": "execute_result"
    }
   ],
   "source": [
    "processed_image[\"pixel_values\"].shape"
   ]
  },
  {
   "cell_type": "code",
   "execution_count": 53,
   "metadata": {},
   "outputs": [
    {
     "data": {
      "text/plain": [
       "torch.Size([3, 224, 224])"
      ]
     },
     "execution_count": 53,
     "metadata": {},
     "output_type": "execute_result"
    }
   ],
   "source": [
    "processed_image[\"pixel_values\"].squeeze(0).shape"
   ]
  },
  {
   "cell_type": "code",
   "execution_count": 54,
   "metadata": {},
   "outputs": [
    {
     "data": {
      "text/plain": [
       "Linear(in_features=768, out_features=1000, bias=True)"
      ]
     },
     "execution_count": 54,
     "metadata": {},
     "output_type": "execute_result"
    }
   ],
   "source": [
    "swin_model.classifier"
   ]
  },
  {
   "cell_type": "code",
   "execution_count": 55,
   "metadata": {},
   "outputs": [
    {
     "data": {
      "text/plain": [
       "MultiLabelClassifier(\n",
       "  (classifier): Sequential(\n",
       "    (0): Linear(in_features=768, out_features=512, bias=True)\n",
       "    (1): GELU(approximate='none')\n",
       "    (2): Dropout(p=0.3, inplace=False)\n",
       "    (3): Linear(in_features=512, out_features=14, bias=True)\n",
       "    (4): Sigmoid()\n",
       "  )\n",
       ")"
      ]
     },
     "execution_count": 55,
     "metadata": {},
     "output_type": "execute_result"
    }
   ],
   "source": [
    "model.classifier"
   ]
  },
  {
   "cell_type": "code",
   "execution_count": 56,
   "metadata": {},
   "outputs": [],
   "source": [
    "pixel_values = processed_image[\"pixel_values\"]"
   ]
  },
  {
   "cell_type": "code",
   "execution_count": 57,
   "metadata": {},
   "outputs": [],
   "source": [
    "model_feature_extractor = model.feature_extractor\n",
    "model_classifier = model.classifier"
   ]
  },
  {
   "cell_type": "code",
   "execution_count": 63,
   "metadata": {},
   "outputs": [],
   "source": [
    "class StratifiedKFoldCV:\n",
    "    def __init__(self, train_dataset, train_labels_df, val_dataset=None, val_labels_df=None, \n",
    "                 k_folds=5, batch_size=32, shuffle=True, random_seed=42, log_dir=\"runs/stratified_kfold\"):\n",
    "        \"\"\"\n",
    "        Args:\n",
    "            train_dataset (Dataset): The training dataset (e.g., MedDataset) to be split into K folds.\n",
    "            train_labels_df (DataFrame): The labels dataframe for the training dataset.\n",
    "            val_dataset (Dataset, optional): The validation dataset for evaluating the model on fixed data.\n",
    "            val_labels_df (DataFrame, optional): The labels dataframe for the validation dataset.\n",
    "            k_folds (int): The number of folds for cross-validation.\n",
    "            batch_size (int): Batch size for the DataLoader.\n",
    "            shuffle (bool): Whether to shuffle the dataset before splitting.\n",
    "            random_seed (int): Random seed for reproducibility.\n",
    "            log_dir (str): Directory to store TensorBoard logs.\n",
    "        \"\"\"\n",
    "        self.train_dataset = train_dataset\n",
    "        self.train_labels_df = train_labels_df\n",
    "        self.val_dataset = val_dataset\n",
    "        self.val_labels_df = val_labels_df\n",
    "        self.k_folds = k_folds\n",
    "        self.batch_size = batch_size\n",
    "        self.shuffle = shuffle\n",
    "        self.random_seed = random_seed\n",
    "        self.log_dir = log_dir\n",
    "        self.kfold = StratifiedKFold(n_splits=k_folds, shuffle=shuffle, random_state=random_seed)\n",
    "        self.writer = SummaryWriter(log_dir)\n",
    "        \n",
    "        self.save_dir = \"model_weights\"\n",
    "        \n",
    "\n",
    "    def get_data_loaders(self, fold):\n",
    "        \"\"\"\n",
    "        Get the train and validation DataLoaders for the current fold.\n",
    "\n",
    "        Args:\n",
    "            fold (int): The current fold number.\n",
    "\n",
    "        Returns:\n",
    "            train_loader (DataLoader): DataLoader for the training set of the current fold.\n",
    "            val_loader (DataLoader): DataLoader for the validation set of the current fold.\n",
    "        \"\"\"\n",
    "        # Get the indices for train and validation splits for the current fold\n",
    "        train_idx, val_idx = list(self.kfold.split(self.train_labels_df, self.train_labels_df['Atelectasis']))[fold]\n",
    "\n",
    "        # Create Subsets for training and validation sets\n",
    "        train_subset = Subset(self.train_dataset, train_idx)\n",
    "        val_subset = Subset(self.train_dataset, val_idx)\n",
    "\n",
    "        # Create DataLoaders\n",
    "        train_loader = DataLoader(train_subset, batch_size=self.batch_size, shuffle=self.shuffle)\n",
    "        val_loader = DataLoader(val_subset, batch_size=self.batch_size, shuffle=False)\n",
    "\n",
    "        return train_loader, val_loader\n",
    "\n",
    "    def train(self, model, optimizer, scheduler, criterion, device, train_loader, epoch):\n",
    "        \"\"\"\n",
    "        Train the model for one epoch.\n",
    "\n",
    "        Args:\n",
    "            model (nn.Module): The model to train.\n",
    "            optimizer (torch.optim.Optimizer): The optimizer.\n",
    "            scheduler (torch.optim.lr_scheduler._LRScheduler): The learning rate scheduler.\n",
    "            criterion (nn.Module): The loss function.\n",
    "            device (torch.device): The device (GPU or CPU).\n",
    "            train_loader (DataLoader): DataLoader for the training set.\n",
    "\n",
    "        Returns:\n",
    "            avg_train_loss (float): Average training loss for the epoch.\n",
    "            train_accuracy (float): Training accuracy for the epoch.\n",
    "            train_f1 (float): Training F1 score for the epoch.\n",
    "        \"\"\"\n",
    "        model.train()\n",
    "        running_train_loss = 0.0\n",
    "        correct_train_predictions = 0\n",
    "        total_train_samples = 0\n",
    "        all_train_labels = []\n",
    "        all_train_preds = []\n",
    "\n",
    "        for images, labels in tqdm(train_loader, desc=f\"Training Epoch {epoch + 1}\", leave=False):\n",
    "            images, labels = images.to(device), labels.to(device)\n",
    "\n",
    "            optimizer.zero_grad()  # Zero out gradients from the previous step\n",
    "\n",
    "            # Forward pass\n",
    "            outputs = model(images)\n",
    "\n",
    "            # Calculate loss\n",
    "            loss = criterion(outputs, labels)\n",
    "\n",
    "            # Backward pass\n",
    "            loss.backward()\n",
    "\n",
    "            # Gradient clipping (to avoid exploding gradients)\n",
    "            torch.nn.utils.clip_grad_norm_(model.parameters(), max_norm=1.0)\n",
    "\n",
    "            # Optimizer step\n",
    "            optimizer.step()\n",
    "\n",
    "            # Update learning rate scheduler\n",
    "            scheduler.step()\n",
    "\n",
    "            # Accumulate loss for logging\n",
    "            running_train_loss += loss.item()\n",
    "\n",
    "            # For multi-label classification, use thresholding at 0.5 to predict class labels\n",
    "            predictions = (outputs > 0.5).float()  # Sigmoid thresholding\n",
    "            correct_train_predictions += (predictions == labels).sum().item()\n",
    "            total_train_samples += labels.numel()\n",
    "\n",
    "            # Collect all labels and predictions for F1 score\n",
    "            all_train_labels.append(labels.cpu().numpy())\n",
    "            all_train_preds.append(predictions.cpu().numpy())\n",
    "\n",
    "        # Average training loss and accuracy\n",
    "        avg_train_loss = running_train_loss / len(train_loader)\n",
    "        train_accuracy = correct_train_predictions / total_train_samples * 100  # In percentage\n",
    "\n",
    "        # Flatten lists for F1 calculation\n",
    "        all_train_labels = np.concatenate(all_train_labels)\n",
    "        all_train_preds = np.concatenate(all_train_preds)\n",
    "\n",
    "        # F1 score\n",
    "        train_f1 = f1_score(all_train_labels, all_train_preds, average='macro')\n",
    "\n",
    "        print(f\"Epoch {epoch + 1} - Train Loss: {avg_train_loss:.4f}, Train Accuracy: {train_accuracy:.2f}%, Train F1: {train_f1:.4f}\")\n",
    "\n",
    "        return avg_train_loss, train_accuracy, train_f1\n",
    "\n",
    "    def validate(self, model, criterion, device, val_loader, epoch):\n",
    "        \"\"\"\n",
    "        Validate the model on the validation set.\n",
    "\n",
    "        Args:\n",
    "            model (nn.Module): The model to validate.\n",
    "            criterion (nn.Module): The loss function.\n",
    "            device (torch.device): The device (GPU or CPU).\n",
    "            val_loader (DataLoader): DataLoader for the validation set.\n",
    "\n",
    "        Returns:\n",
    "            avg_val_loss (float): Average validation loss for the epoch.\n",
    "            val_accuracy (float): Validation accuracy for the epoch.\n",
    "            val_f1 (float): Validation F1 score for the epoch.\n",
    "        \"\"\"\n",
    "        model.eval()\n",
    "        running_val_loss = 0.0\n",
    "        correct_val_predictions = 0\n",
    "        total_val_samples = 0\n",
    "        all_val_labels = []\n",
    "        all_val_preds = []\n",
    "\n",
    "        with torch.no_grad():  # Disable gradient calculation for validation\n",
    "            for images, labels in tqdm(val_loader, desc=\"Validating\", leave=False):\n",
    "                images, labels = images.to(device), labels.to(device)\n",
    "\n",
    "                # Forward pass\n",
    "                outputs = model(images)\n",
    "\n",
    "                # Calculate loss\n",
    "                loss = criterion(outputs, labels)\n",
    "\n",
    "                # Accumulate validation loss\n",
    "                running_val_loss += loss.item()\n",
    "\n",
    "                # For multi-label classification, use thresholding at 0.5 to predict class labels\n",
    "                predictions = (outputs > 0.5).float()  # Sigmoid thresholding\n",
    "                correct_val_predictions += (predictions == labels).sum().item()\n",
    "                total_val_samples += labels.numel()\n",
    "\n",
    "                # Collect all labels and predictions for F1 score\n",
    "                all_val_labels.append(labels.cpu().numpy())\n",
    "                all_val_preds.append(predictions.cpu().numpy())\n",
    "\n",
    "        # Average validation loss and accuracy\n",
    "        avg_val_loss = running_val_loss / len(val_loader)\n",
    "        val_accuracy = correct_val_predictions / total_val_samples * 100  # In percentage\n",
    "\n",
    "        # Flatten lists for F1 calculation\n",
    "        all_val_labels = np.concatenate(all_val_labels)\n",
    "        all_val_preds = np.concatenate(all_val_preds)\n",
    "\n",
    "        # F1 score\n",
    "        val_f1 = f1_score(all_val_labels, all_val_preds, average='macro')\n",
    "        \n",
    "        print(f\"Epoch {epoch + 1} - Val Loss: {avg_val_loss:.4f}, Val Accuracy: {val_accuracy:.2f}%, Val F1: {val_f1:.4f}\")\n",
    "\n",
    "        return avg_val_loss, val_accuracy, val_f1\n",
    "\n",
    "    def plot_losses(self, train_losses, val_losses, epoch):\n",
    "        \"\"\"\n",
    "        Plot the training and validation loss for the current epoch.\n",
    "\n",
    "        Args:\n",
    "            train_losses (list): List of training losses.\n",
    "            val_losses (list): List of validation losses.\n",
    "            epoch (int): Current epoch number.\n",
    "        \"\"\"\n",
    "        plt.figure(figsize=(10, 6))\n",
    "        plt.plot(train_losses, label=\"Train Loss\", color=\"blue\")\n",
    "        plt.plot(val_losses, label=\"Val Loss\", color=\"red\")\n",
    "        plt.xlabel(\"Epoch\")\n",
    "        plt.ylabel(\"Loss\")\n",
    "        plt.title(f\"Losses for Epoch {epoch}\")\n",
    "        plt.legend()\n",
    "        plt.savefig(f\"epoch_{epoch}_loss_plot.png\")\n",
    "        plt.close()\n",
    "\n",
    "    def run(self, model, optimizer, scheduler, criterion, device, num_epochs=25):\n",
    "        \"\"\"\n",
    "        Run Stratified K-Fold Cross Validation.\n",
    "\n",
    "        Args:\n",
    "            model (nn.Module): The model to train.\n",
    "            optimizer (torch.optim.Optimizer): The optimizer.\n",
    "            scheduler (torch.optim.lr_scheduler._LRScheduler): The learning rate scheduler.\n",
    "            criterion (nn.Module): The loss function.\n",
    "            device (torch.device): The device (GPU or CPU).\n",
    "            num_epochs (int): Number of epochs for training.\n",
    "\n",
    "        Returns:\n",
    "            avg_train_loss (float): Average training loss across all folds.\n",
    "            avg_val_loss (float): Average validation loss across all folds.\n",
    "            avg_val_accuracy (float): Average validation accuracy across all folds.\n",
    "        \"\"\"\n",
    "        fold_train_losses = []\n",
    "        fold_val_losses = []\n",
    "        fold_val_accuracies = []\n",
    "        fold_val_f1_scores = []\n",
    "\n",
    "        i = 0\n",
    "        \n",
    "        for fold in range(self.k_folds):\n",
    "            print(f\"Fold {fold + 1}/{self.k_folds}\")\n",
    "            train_loader, val_loader = self.get_data_loaders(fold)\n",
    "\n",
    "            # Initialize loss lists for plotting\n",
    "            train_losses = []\n",
    "            val_losses = []\n",
    "\n",
    "            for epoch in range(num_epochs):\n",
    "                print(f\"Epoch {epoch + 1}/{num_epochs}\")\n",
    "\n",
    "                # Train the model for the current epoch\n",
    "                avg_train_loss, train_accuracy, train_f1 = self.train(\n",
    "                    model, optimizer, scheduler, criterion, device, train_loader, epoch\n",
    "                )\n",
    "\n",
    "                # Validate the model for the current epoch\n",
    "                avg_val_loss, val_accuracy, val_f1 = self.validate(\n",
    "                    model, criterion, device, val_loader, epoch\n",
    "                )\n",
    "\n",
    "                # Log metrics to TensorBoard\n",
    "                self.writer.add_scalars('Loss', {'train': avg_train_loss, 'val': avg_val_loss}, epoch)\n",
    "                self.writer.add_scalars('Accuracy', {'train': train_accuracy, 'val': val_accuracy}, epoch)\n",
    "                self.writer.add_scalars('F1 Score', {'train': train_f1, 'val': val_f1}, epoch)\n",
    "\n",
    "                # Save losses for plotting\n",
    "                train_losses.append(avg_train_loss)\n",
    "                val_losses.append(avg_val_loss)\n",
    "\n",
    "                # Plot losses every 10 epochs\n",
    "                self.plot_losses(train_losses, val_losses, epoch + 1)\n",
    "\n",
    "            fold_train_losses.append(avg_train_loss)\n",
    "            fold_val_losses.append(avg_val_loss)\n",
    "            fold_val_accuracies.append(val_accuracy)\n",
    "            fold_val_f1_scores.append(val_f1)\n",
    "\n",
    "            save_path = self.save_dir + f\"_fold{i}\"\n",
    "            i += 1\n",
    "            \n",
    "            torch.save(model.state_dict(), save_path)\n",
    "            \n",
    "            print(f\"Fold {fold + 1} - Train Loss: {avg_train_loss:.4f}, Train Accuracy: {train_accuracy:.2f}%\")\n",
    "            print(f\"Fold {fold + 1} - Val Loss: {avg_val_loss:.4f}, Val Accuracy: {val_accuracy:.2f}%\")\n",
    "            print(f\"Fold {fold + 1} - Val F1: {val_f1:.4f}\")\n",
    "\n",
    "        # Calculate average metrics across all folds\n",
    "        avg_train_loss = sum(fold_train_losses) / len(fold_train_losses)\n",
    "        avg_val_loss = sum(fold_val_losses) / len(fold_val_losses)\n",
    "        avg_val_accuracy = sum(fold_val_accuracies) / len(fold_val_accuracies)\n",
    "        avg_val_f1 = sum(fold_val_f1_scores) / len(fold_val_f1_scores)\n",
    "\n",
    "        print(f\"Average Train Loss: {avg_train_loss:.4f}\")\n",
    "        print(f\"Average Val Loss: {avg_val_loss:.4f}\")\n",
    "        print(f\"Average Val Accuracy: {avg_val_accuracy:.2f}%\")\n",
    "        print(f\"Average Val F1: {avg_val_f1:.4f}\")\n",
    "\n",
    "        return avg_train_loss, avg_val_loss, avg_val_accuracy, avg_val_f1\n"
   ]
  },
  {
   "cell_type": "code",
   "execution_count": 64,
   "metadata": {},
   "outputs": [],
   "source": [
    "stratified_kfold = StratifiedKFoldCV(\n",
    "    train_dataset=train_dataset, \n",
    "    train_labels_df=train_labels_raw_df,\n",
    "    val_dataset=val_dataset,\n",
    "    val_labels_df=val_labels_raw_df,\n",
    "    k_folds=5\n",
    ")"
   ]
  },
  {
   "cell_type": "code",
   "execution_count": null,
   "metadata": {},
   "outputs": [
    {
     "name": "stdout",
     "output_type": "stream",
     "text": [
      "Fold 1/5\n",
      "Epoch 1/25\n"
     ]
    },
    {
     "data": {
      "application/vnd.jupyter.widget-view+json": {
       "model_id": "25fb4d942a0c406baa5bb838ebcf92d0",
       "version_major": 2,
       "version_minor": 0
      },
      "text/plain": [
       "Training Epoch 1:   0%|          | 0/530 [00:00<?, ?it/s]"
      ]
     },
     "metadata": {},
     "output_type": "display_data"
    },
    {
     "name": "stdout",
     "output_type": "stream",
     "text": [
      "Epoch 1 - Train Loss: 0.0073, Train Accuracy: 88.60%, Train F1: 0.0526\n"
     ]
    },
    {
     "data": {
      "application/vnd.jupyter.widget-view+json": {
       "model_id": "f0b3f2cc770d4df092b6ae3e04b88478",
       "version_major": 2,
       "version_minor": 0
      },
      "text/plain": [
       "Validating:   0%|          | 0/133 [00:00<?, ?it/s]"
      ]
     },
     "metadata": {},
     "output_type": "display_data"
    },
    {
     "name": "stdout",
     "output_type": "stream",
     "text": [
      "Epoch 1 - Val Loss: 0.0059, Val Accuracy: 94.83%, Val F1: 0.0000\n",
      "Epoch 2/25\n"
     ]
    },
    {
     "data": {
      "application/vnd.jupyter.widget-view+json": {
       "model_id": "28ab333f7841478089b1f5129bc1a53e",
       "version_major": 2,
       "version_minor": 0
      },
      "text/plain": [
       "Training Epoch 2:   0%|          | 0/530 [00:00<?, ?it/s]"
      ]
     },
     "metadata": {},
     "output_type": "display_data"
    },
    {
     "name": "stdout",
     "output_type": "stream",
     "text": [
      "Epoch 2 - Train Loss: 0.0058, Train Accuracy: 94.90%, Train F1: 0.0000\n"
     ]
    },
    {
     "data": {
      "application/vnd.jupyter.widget-view+json": {
       "model_id": "4f0c689f700a4b55a8579075b038f7a5",
       "version_major": 2,
       "version_minor": 0
      },
      "text/plain": [
       "Validating:   0%|          | 0/133 [00:00<?, ?it/s]"
      ]
     },
     "metadata": {},
     "output_type": "display_data"
    },
    {
     "name": "stdout",
     "output_type": "stream",
     "text": [
      "Epoch 2 - Val Loss: 0.0058, Val Accuracy: 94.83%, Val F1: 0.0000\n",
      "Epoch 3/25\n"
     ]
    },
    {
     "data": {
      "application/vnd.jupyter.widget-view+json": {
       "model_id": "398ca35ac2744fc4a7f4ba5587dc32c7",
       "version_major": 2,
       "version_minor": 0
      },
      "text/plain": [
       "Training Epoch 3:   0%|          | 0/530 [00:00<?, ?it/s]"
      ]
     },
     "metadata": {},
     "output_type": "display_data"
    },
    {
     "name": "stdout",
     "output_type": "stream",
     "text": [
      "Epoch 3 - Train Loss: 0.0058, Train Accuracy: 94.90%, Train F1: 0.0000\n"
     ]
    },
    {
     "data": {
      "application/vnd.jupyter.widget-view+json": {
       "model_id": "77a2a130b7034618ac1e9f36dc31f190",
       "version_major": 2,
       "version_minor": 0
      },
      "text/plain": [
       "Validating:   0%|          | 0/133 [00:00<?, ?it/s]"
      ]
     },
     "metadata": {},
     "output_type": "display_data"
    },
    {
     "name": "stdout",
     "output_type": "stream",
     "text": [
      "Epoch 3 - Val Loss: 0.0058, Val Accuracy: 94.83%, Val F1: 0.0000\n",
      "Epoch 4/25\n"
     ]
    },
    {
     "data": {
      "application/vnd.jupyter.widget-view+json": {
       "model_id": "715a792367304a859e9edf66802edde2",
       "version_major": 2,
       "version_minor": 0
      },
      "text/plain": [
       "Training Epoch 4:   0%|          | 0/530 [00:00<?, ?it/s]"
      ]
     },
     "metadata": {},
     "output_type": "display_data"
    },
    {
     "name": "stdout",
     "output_type": "stream",
     "text": [
      "Epoch 4 - Train Loss: 0.0058, Train Accuracy: 94.90%, Train F1: 0.0000\n"
     ]
    },
    {
     "data": {
      "application/vnd.jupyter.widget-view+json": {
       "model_id": "a39561baeaf2475ca7471ef38b50b212",
       "version_major": 2,
       "version_minor": 0
      },
      "text/plain": [
       "Validating:   0%|          | 0/133 [00:00<?, ?it/s]"
      ]
     },
     "metadata": {},
     "output_type": "display_data"
    },
    {
     "name": "stdout",
     "output_type": "stream",
     "text": [
      "Epoch 4 - Val Loss: 0.0058, Val Accuracy: 94.83%, Val F1: 0.0000\n",
      "Epoch 5/25\n"
     ]
    },
    {
     "data": {
      "application/vnd.jupyter.widget-view+json": {
       "model_id": "ef8376d386ba4cd783e819298d2dba13",
       "version_major": 2,
       "version_minor": 0
      },
      "text/plain": [
       "Training Epoch 5:   0%|          | 0/530 [00:00<?, ?it/s]"
      ]
     },
     "metadata": {},
     "output_type": "display_data"
    }
   ],
   "source": [
    "avg_train_loss, avg_val_loss, avg_val_accuracy = stratified_kfold.run(model, optimizer, scheduler, criterion, device)"
   ]
  },
  {
   "cell_type": "code",
   "execution_count": 52,
   "metadata": {},
   "outputs": [
    {
     "data": {
      "text/plain": [
       "MultiLabelModel(\n",
       "  (feature_extractor): SwinModelWithPEFT(\n",
       "    (backbone): SwinForImageClassification(\n",
       "      (swin): SwinModel(\n",
       "        (embeddings): SwinEmbeddings(\n",
       "          (patch_embeddings): SwinPatchEmbeddings(\n",
       "            (projection): Conv2d(3, 96, kernel_size=(4, 4), stride=(4, 4))\n",
       "          )\n",
       "          (norm): LayerNorm((96,), eps=1e-05, elementwise_affine=True)\n",
       "          (dropout): Dropout(p=0.0, inplace=False)\n",
       "        )\n",
       "        (encoder): SwinEncoder(\n",
       "          (layers): ModuleList(\n",
       "            (0): SwinStage(\n",
       "              (blocks): ModuleList(\n",
       "                (0-1): 2 x SwinLayer(\n",
       "                  (layernorm_before): LayerNorm((96,), eps=1e-05, elementwise_affine=True)\n",
       "                  (attention): SwinAttention(\n",
       "                    (self): SwinSelfAttention(\n",
       "                      (query): Linear(in_features=96, out_features=96, bias=True)\n",
       "                      (key): Linear(in_features=96, out_features=96, bias=True)\n",
       "                      (value): Linear(in_features=96, out_features=96, bias=True)\n",
       "                      (dropout): Dropout(p=0.0, inplace=False)\n",
       "                    )\n",
       "                    (output): SwinSelfOutput(\n",
       "                      (dense): Linear(in_features=96, out_features=96, bias=True)\n",
       "                      (dropout): Dropout(p=0.0, inplace=False)\n",
       "                    )\n",
       "                  )\n",
       "                  (drop_path): SwinDropPath(p=0.1)\n",
       "                  (layernorm_after): LayerNorm((96,), eps=1e-05, elementwise_affine=True)\n",
       "                  (intermediate): SwinIntermediate(\n",
       "                    (dense): Linear(in_features=96, out_features=384, bias=True)\n",
       "                    (intermediate_act_fn): GELUActivation()\n",
       "                  )\n",
       "                  (output): SwinOutput(\n",
       "                    (dense): Linear(in_features=384, out_features=96, bias=True)\n",
       "                    (dropout): Dropout(p=0.0, inplace=False)\n",
       "                  )\n",
       "                )\n",
       "              )\n",
       "              (downsample): SwinPatchMerging(\n",
       "                (reduction): Linear(in_features=384, out_features=192, bias=False)\n",
       "                (norm): LayerNorm((384,), eps=1e-05, elementwise_affine=True)\n",
       "              )\n",
       "            )\n",
       "            (1): SwinStage(\n",
       "              (blocks): ModuleList(\n",
       "                (0-1): 2 x SwinLayer(\n",
       "                  (layernorm_before): LayerNorm((192,), eps=1e-05, elementwise_affine=True)\n",
       "                  (attention): SwinAttention(\n",
       "                    (self): SwinSelfAttention(\n",
       "                      (query): Linear(in_features=192, out_features=192, bias=True)\n",
       "                      (key): Linear(in_features=192, out_features=192, bias=True)\n",
       "                      (value): Linear(in_features=192, out_features=192, bias=True)\n",
       "                      (dropout): Dropout(p=0.0, inplace=False)\n",
       "                    )\n",
       "                    (output): SwinSelfOutput(\n",
       "                      (dense): Linear(in_features=192, out_features=192, bias=True)\n",
       "                      (dropout): Dropout(p=0.0, inplace=False)\n",
       "                    )\n",
       "                  )\n",
       "                  (drop_path): SwinDropPath(p=0.1)\n",
       "                  (layernorm_after): LayerNorm((192,), eps=1e-05, elementwise_affine=True)\n",
       "                  (intermediate): SwinIntermediate(\n",
       "                    (dense): Linear(in_features=192, out_features=768, bias=True)\n",
       "                    (intermediate_act_fn): GELUActivation()\n",
       "                  )\n",
       "                  (output): SwinOutput(\n",
       "                    (dense): Linear(in_features=768, out_features=192, bias=True)\n",
       "                    (dropout): Dropout(p=0.0, inplace=False)\n",
       "                  )\n",
       "                )\n",
       "              )\n",
       "              (downsample): SwinPatchMerging(\n",
       "                (reduction): Linear(in_features=768, out_features=384, bias=False)\n",
       "                (norm): LayerNorm((768,), eps=1e-05, elementwise_affine=True)\n",
       "              )\n",
       "            )\n",
       "            (2): SwinStage(\n",
       "              (blocks): ModuleList(\n",
       "                (0-5): 6 x SwinLayer(\n",
       "                  (layernorm_before): LayerNorm((384,), eps=1e-05, elementwise_affine=True)\n",
       "                  (attention): SwinAttention(\n",
       "                    (self): SwinSelfAttention(\n",
       "                      (query): Linear(in_features=384, out_features=384, bias=True)\n",
       "                      (key): Linear(in_features=384, out_features=384, bias=True)\n",
       "                      (value): Linear(in_features=384, out_features=384, bias=True)\n",
       "                      (dropout): Dropout(p=0.0, inplace=False)\n",
       "                    )\n",
       "                    (output): SwinSelfOutput(\n",
       "                      (dense): Linear(in_features=384, out_features=384, bias=True)\n",
       "                      (dropout): Dropout(p=0.0, inplace=False)\n",
       "                    )\n",
       "                  )\n",
       "                  (drop_path): SwinDropPath(p=0.1)\n",
       "                  (layernorm_after): LayerNorm((384,), eps=1e-05, elementwise_affine=True)\n",
       "                  (intermediate): SwinIntermediate(\n",
       "                    (dense): Linear(in_features=384, out_features=1536, bias=True)\n",
       "                    (intermediate_act_fn): GELUActivation()\n",
       "                  )\n",
       "                  (output): SwinOutput(\n",
       "                    (dense): Linear(in_features=1536, out_features=384, bias=True)\n",
       "                    (dropout): Dropout(p=0.0, inplace=False)\n",
       "                  )\n",
       "                )\n",
       "              )\n",
       "              (downsample): SwinPatchMerging(\n",
       "                (reduction): Linear(in_features=1536, out_features=768, bias=False)\n",
       "                (norm): LayerNorm((1536,), eps=1e-05, elementwise_affine=True)\n",
       "              )\n",
       "            )\n",
       "            (3): SwinStage(\n",
       "              (blocks): ModuleList(\n",
       "                (0-1): 2 x SwinLayer(\n",
       "                  (layernorm_before): LayerNorm((768,), eps=1e-05, elementwise_affine=True)\n",
       "                  (attention): SwinAttention(\n",
       "                    (self): SwinSelfAttention(\n",
       "                      (query): Linear(in_features=768, out_features=768, bias=True)\n",
       "                      (key): Linear(in_features=768, out_features=768, bias=True)\n",
       "                      (value): Linear(in_features=768, out_features=768, bias=True)\n",
       "                      (dropout): Dropout(p=0.0, inplace=False)\n",
       "                    )\n",
       "                    (output): SwinSelfOutput(\n",
       "                      (dense): Linear(in_features=768, out_features=768, bias=True)\n",
       "                      (dropout): Dropout(p=0.0, inplace=False)\n",
       "                    )\n",
       "                  )\n",
       "                  (drop_path): SwinDropPath(p=0.1)\n",
       "                  (layernorm_after): LayerNorm((768,), eps=1e-05, elementwise_affine=True)\n",
       "                  (intermediate): SwinIntermediate(\n",
       "                    (dense): Linear(in_features=768, out_features=3072, bias=True)\n",
       "                    (intermediate_act_fn): GELUActivation()\n",
       "                  )\n",
       "                  (output): SwinOutput(\n",
       "                    (dense): Linear(in_features=3072, out_features=768, bias=True)\n",
       "                    (dropout): Dropout(p=0.0, inplace=False)\n",
       "                  )\n",
       "                )\n",
       "              )\n",
       "            )\n",
       "          )\n",
       "        )\n",
       "        (layernorm): LayerNorm((768,), eps=1e-05, elementwise_affine=True)\n",
       "        (pooler): AdaptiveAvgPool1d(output_size=1)\n",
       "      )\n",
       "      (classifier): Identity()\n",
       "    )\n",
       "  )\n",
       "  (classifier): MultiLabelClassifier(\n",
       "    (classifier): Sequential(\n",
       "      (0): Linear(in_features=768, out_features=512, bias=True)\n",
       "      (1): GELU(approximate='none')\n",
       "      (2): Dropout(p=0.3, inplace=False)\n",
       "      (3): Linear(in_features=512, out_features=14, bias=True)\n",
       "      (4): Sigmoid()\n",
       "    )\n",
       "  )\n",
       ")"
      ]
     },
     "execution_count": 52,
     "metadata": {},
     "output_type": "execute_result"
    }
   ],
   "source": [
    "model"
   ]
  },
  {
   "cell_type": "code",
   "execution_count": null,
   "metadata": {},
   "outputs": [],
   "source": []
  }
 ],
 "metadata": {
  "kernelspec": {
   "display_name": "ml_base",
   "language": "python",
   "name": "python3"
  },
  "language_info": {
   "codemirror_mode": {
    "name": "ipython",
    "version": 3
   },
   "file_extension": ".py",
   "mimetype": "text/x-python",
   "name": "python",
   "nbconvert_exporter": "python",
   "pygments_lexer": "ipython3",
   "version": "3.9.21"
  }
 },
 "nbformat": 4,
 "nbformat_minor": 2
}
